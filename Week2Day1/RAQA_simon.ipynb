{
 "cells": [
  {
   "cell_type": "markdown",
   "metadata": {},
   "source": [
    "# Your First RAQA Application\n",
    "\n",
    "In this notebook, we'll walk you through each of the components that are involved in a simple RAQA application. \n",
    "\n",
    "We won't be leveraging any fancy tools, just the OpenAI Python SDK, Numpy, and some classic Python.\n",
    "\n",
    "> NOTE: This was done with Python 3.11.4."
   ]
  },
  {
   "cell_type": "markdown",
   "metadata": {},
   "source": [
    "Let's look at a rather complicated looking visual representation of a basic RAQA application.\n",
    "\n",
    "<img src=\"https://i.imgur.com/PvlaIUO.png\" />"
   ]
  },
  {
   "cell_type": "markdown",
   "metadata": {},
   "source": [
    "### Imports and Utility \n",
    "\n",
    "We're just doing some imports and enabling `async` to work within the Jupyter environment here, nothing too crazy!"
   ]
  },
  {
   "cell_type": "code",
   "execution_count": 1,
   "metadata": {},
   "outputs": [
    {
     "name": "stdout",
     "output_type": "stream",
     "text": [
      "\u001b[33mWARNING: 401 Error, Credentials not correct for https://pkgs.dev.azure.com/conexiom/Olympus/_packaging/elysium/pypi/simple/numpy/\u001b[0m\u001b[33m\n",
      "\u001b[0m\u001b[33mWARNING: 401 Error, Credentials not correct for https://pkgs.dev.azure.com/conexiom/Olympus/_packaging/elysium/pypi/simple/matplotlib/\u001b[0m\u001b[33m\n",
      "\u001b[0m\u001b[33mWARNING: 401 Error, Credentials not correct for https://pkgs.dev.azure.com/conexiom/Olympus/_packaging/elysium/pypi/simple/plotly/\u001b[0m\u001b[33m\n",
      "\u001b[0m\u001b[33mWARNING: 401 Error, Credentials not correct for https://pkgs.dev.azure.com/conexiom/Olympus/_packaging/elysium/pypi/simple/pandas/\u001b[0m\u001b[33m\n",
      "\u001b[0m\u001b[33mWARNING: 401 Error, Credentials not correct for https://pkgs.dev.azure.com/conexiom/Olympus/_packaging/elysium/pypi/simple/scipy/\u001b[0m\u001b[33m\n",
      "\u001b[0m\u001b[33mWARNING: 401 Error, Credentials not correct for https://pkgs.dev.azure.com/conexiom/Olympus/_packaging/elysium/pypi/simple/scikit-learn/\u001b[0m\u001b[33m\n",
      "\u001b[0m\u001b[33mWARNING: 401 Error, Credentials not correct for https://pkgs.dev.azure.com/conexiom/Olympus/_packaging/elysium/pypi/simple/openai/\u001b[0m\u001b[33m\n",
      "\u001b[0m\u001b[33mWARNING: 401 Error, Credentials not correct for https://pkgs.dev.azure.com/conexiom/Olympus/_packaging/elysium/pypi/simple/python-dotenv/\u001b[0m\u001b[33m\n",
      "\u001b[0m"
     ]
    }
   ],
   "source": [
    "!pip install -q -U numpy matplotlib plotly pandas scipy scikit-learn openai python-dotenv"
   ]
  },
  {
   "cell_type": "code",
   "execution_count": 11,
   "metadata": {},
   "outputs": [],
   "source": [
    "from aimakerspace.text_utils import CharacterTextSplitter\n",
    "from aimakerspace.vectordatabase import VectorDatabase\n",
    "import asyncio"
   ]
  },
  {
   "cell_type": "code",
   "execution_count": 12,
   "metadata": {},
   "outputs": [],
   "source": [
    "import nest_asyncio\n",
    "nest_asyncio.apply()"
   ]
  },
  {
   "cell_type": "markdown",
   "metadata": {},
   "source": [
    "# Documents\n",
    "\n",
    "We'll be concerning ourselves with this part of the flow in the following section:\n",
    "\n",
    "<img src=\"https://i.imgur.com/jTm9gjk.png\" />"
   ]
  },
  {
   "cell_type": "markdown",
   "metadata": {},
   "source": [
    "### Loading Source Documents\n",
    "\n",
    "So, first things first, we need some documents to work with. \n",
    "\n",
    "While we could work directly with the `.txt` files (or whatever file-types you wanted to extend this to) we can instead do some batch processing of those documents at the beginning in order to store them in a more machine compatible format. \n",
    "\n",
    "In this case, we're going to parse our text file into a single document in memory.\n",
    "\n",
    "Let's look at the relevant bits of the `TextFileLoader` class:\n",
    "\n",
    "```python\n",
    "def load_file(self):\n",
    "        with open(self.path, \"r\", encoding=self.encoding) as f:\n",
    "            self.documents.append(f.read())\n",
    "```\n",
    "\n",
    "We're simply loading the document using the built in `open` method, and storing that output in our `self.documents` list.\n"
   ]
  },
  {
   "cell_type": "code",
   "execution_count": 5,
   "metadata": {},
   "outputs": [],
   "source": [
    "# text_loader = TextFileLoader(\"data/KingLear.txt\")\n",
    "# documents = text_loader.load_documents()\n",
    "from langchain_community.document_loaders import PyPDFLoader\n",
    "loader = PyPDFLoader(\"2017-mazda3-owners-manual.pdf\")\n",
    "documents = loader.load_and_split() # creates 1 documents per page of the source pdf document"
   ]
  },
  {
   "cell_type": "code",
   "execution_count": 13,
   "metadata": {},
   "outputs": [
    {
     "ename": "AttributeError",
     "evalue": "'str' object has no attribute 'page_content'",
     "output_type": "error",
     "traceback": [
      "\u001b[0;31m---------------------------------------------------------------------------\u001b[0m",
      "\u001b[0;31mAttributeError\u001b[0m                            Traceback (most recent call last)",
      "\u001b[1;32m/home/smonk/workspace/AI-Engineering/Week 2/Day 1/RAQA_simon.ipynb Cell 10\u001b[0m line \u001b[0;36m1\n\u001b[0;32m----> <a href='vscode-notebook-cell://ssh-remote%2Bcpu-chimera-smonk/home/smonk/workspace/AI-Engineering/Week%202/Day%201/RAQA_simon.ipynb#X12sdnNjb2RlLXJlbW90ZQ%3D%3D?line=0'>1</a>\u001b[0m documents \u001b[39m=\u001b[39m [document\u001b[39m.\u001b[39;49mpage_content \u001b[39mfor\u001b[39;49;00m document \u001b[39min\u001b[39;49;00m documents]\n",
      "\u001b[1;32m/home/smonk/workspace/AI-Engineering/Week 2/Day 1/RAQA_simon.ipynb Cell 10\u001b[0m line \u001b[0;36m1\n\u001b[0;32m----> <a href='vscode-notebook-cell://ssh-remote%2Bcpu-chimera-smonk/home/smonk/workspace/AI-Engineering/Week%202/Day%201/RAQA_simon.ipynb#X12sdnNjb2RlLXJlbW90ZQ%3D%3D?line=0'>1</a>\u001b[0m documents \u001b[39m=\u001b[39m [document\u001b[39m.\u001b[39;49mpage_content \u001b[39mfor\u001b[39;00m document \u001b[39min\u001b[39;00m documents]\n",
      "\u001b[0;31mAttributeError\u001b[0m: 'str' object has no attribute 'page_content'"
     ]
    }
   ],
   "source": [
    "documents = [document.page_content for document in documents]"
   ]
  },
  {
   "cell_type": "markdown",
   "metadata": {},
   "source": [
    "### Splitting Text Into Chunks\n",
    "\n",
    "As we can see, there is one document - and it's the entire text of Frakenstein\n",
    "\n",
    "We'll want to chunk the document into smaller parts so it's easier to pass the most relevant snippets to the LLM. \n",
    "\n",
    "There is no fixed way to split/chunk documents - and you'll need to rely on some intuition as well as knowing your data *very* well in order to build the most robust system.\n",
    "\n",
    "For this toy example, we'll just split blindly on length. \n",
    "\n",
    ">There's an opportunity to clear up some terminology here, for this course we will be stick to the following: \n",
    ">\n",
    ">- \"source documents\" : The `.txt`, `.pdf`, `.html`, ..., files that make up the files and information we start with in its raw format\n",
    ">- \"document(s)\" : single (or more) text object(s)\n",
    ">- \"corpus\" : the combination of all of our documents"
   ]
  },
  {
   "cell_type": "markdown",
   "metadata": {},
   "source": [
    "Let's take a peek visually at what we're doing here - and why it might be useful:\n",
    "\n",
    "<img src=\"https://i.imgur.com/rtM6Ci6.png\" />"
   ]
  },
  {
   "cell_type": "markdown",
   "metadata": {},
   "source": [
    "As you can see (though it's not specifically true in this toy example) the idea of splitting documents is to break them into managable sized chunks that retain the most relevant local context."
   ]
  },
  {
   "cell_type": "code",
   "execution_count": 7,
   "metadata": {},
   "outputs": [
    {
     "data": {
      "text/plain": [
       "1391"
      ]
     },
     "execution_count": 7,
     "metadata": {},
     "output_type": "execute_result"
    }
   ],
   "source": [
    "text_splitter = CharacterTextSplitter()\n",
    "split_documents = text_splitter.split_texts(documents)\n",
    "len(split_documents)"
   ]
  },
  {
   "cell_type": "markdown",
   "metadata": {},
   "source": [
    "Let's take a look at some of the documents we've managed to split."
   ]
  },
  {
   "cell_type": "code",
   "execution_count": 10,
   "metadata": {},
   "outputs": [
    {
     "name": "stdout",
     "output_type": "stream",
     "text": [
      "['2–29\\nEssential Safety Equipment\\nChild-Restraint\\n Anchor Bracket\\nAnchor brackets for securing child-\\nrestraint systems are equipped in the \\nvehicle. Locate each anchor position using \\nthe illustration.\\nTo install a child-restraint system, remove \\nthe head restraint. Always follow the \\ninstruction manual accompanying the \\nchild-restraint system.\\nAnchor bracket location\\nUse the indicated anchor bracket locations \\nwhen installing a child-restraint system \\nequipped with a tether.\\nAnchor bracketFor right\\nFor leftFor center(4-Door)\\n(5-Door)\\nFor left\\nFor center For rightSome models.WARNING\\nAlways attach the tether strap to the \\ncorrect tether anchor position:\\nAttaching the tether strap to the \\nincorrect tether anchor position is \\ndangerous. In a collision, the tether \\nstrap could come off and loosen the \\nchild-restraint system. If the child-\\nrestraint system moves it could result \\nin death or injury to the child.\\nAlways remove the head restraint and \\nset the tether strap:\\nRouting the tether st', 'en the \\nchild-restraint system. If the child-\\nrestraint system moves it could result \\nin death or injury to the child.\\nAlways remove the head restraint and \\nset the tether strap:\\nRouting the tether strap on top of \\nthe head restraint is dangerous. In a \\ncollision the tether strap could slide off \\nthe head restraint and loosen the child-\\nrestraint system. The child-restraint \\nsystem could move which may result in \\ndeath or injury to the child.\\nAnchor bracketTether strap (4-Door)\\nAnchor bracketTether strap\\nMazda3_8FL6-EA-16F_Edition1.indb   29 2016/05/16   17:34:25', \"2–30\\nEssential Safety Equipment\\nChild-Restraint\\n*Some models.Tether strap\\nForward(5-Door)\\nTether strap\\nForward\\nAlways install the head restraint and \\nadjust it to the appropriate position \\nafter removing the child-restraint \\nsystem:\\nDriving with the head restraint \\nremoved is dangerous as impact to the \\noccupant's head cannot be prevented \\nduring emergency braking or in a \\ncollision, which could result in a serious \\naccident, injury or death.\\nRefer to Head Restraints on page \\n2-12 . Using Automatic Locking Mode*\\nFollow these instructions when using \\na child-restraint system, unless you are \\nattaching a LATCH-equipped child-\\nrestraint system to the rear LATCH lower \\nanchors. Refer to “Using LATCH Lower \\nAnchor” (page 2-37).\\nNOTE\\nFollow the child-restraint system \\nmanufacturer's instructions carefully. \\nIf you are not sure whether you have a \\nLATCH system or tether, check in the \\nchild-restraint system manufacturer's \\ninstructions and follow them accordingly. \\nDepending on the type of ch\"]\n"
     ]
    }
   ],
   "source": [
    "print(split_documents[98:101])"
   ]
  },
  {
   "cell_type": "markdown",
   "metadata": {},
   "source": [
    "### Embeddings and Vectors\n",
    "\n",
    "Next, we have to convert our corpus into a \"machine readable\" format. \n",
    "\n",
    "Loosely, this means turning the text into numbers. \n",
    "\n",
    "There are plenty of resources that talk about this process in great detail - I'll leave this [blog](https://txt.cohere.com/sentence-word-embeddings/) from Cohere.AI as a resource if you want to deep dive a bit. \n",
    "\n",
    "Today, we're going to talk about the actual process of creating, and then storing, these embeddings, and how we can leverage that to intelligently add context to our queries."
   ]
  },
  {
   "cell_type": "markdown",
   "metadata": {},
   "source": [
    "While this is all baked into 1 call - let's look at some of the code that powers this process:\n",
    "\n",
    "Let's look at our `VectorDatabase().__init__()`:\n",
    "\n",
    "```python\n",
    "def __init__(self, embedding_model: EmbeddingModel = None):\n",
    "        self.vectors = defaultdict(np.array)\n",
    "        self.embedding_model = embedding_model or EmbeddingModel()\n",
    "```\n",
    "\n",
    "As you can see - our vectors are merely stored as a dictionary of `np.array` objects.\n",
    "\n",
    "Secondly, our `VectorDatabase()` has a default `EmbeddingModel()` which is a wrapper for OpenAI's `text-embedding-3-small` model. \n",
    "\n",
    "> **Quick Info About `text-embedding-3-small`**:\n",
    "> - It has a context window of **8191** tokens\n",
    "> - It returns vectors with dimension **1536**"
   ]
  },
  {
   "cell_type": "markdown",
   "metadata": {},
   "source": [
    "#### ❓QUESTION:\n",
    "\n",
    "Though 1536 is the default dimension of `text-embedding-3-small`, you can pass a dimension parameter and shorten the vector - what method does OpenAI use to achieve this shortening? Matryoshka Representation Learning https://arxiv.org/abs/2205.13147"
   ]
  },
  {
   "cell_type": "code",
   "execution_count": 14,
   "metadata": {},
   "outputs": [],
   "source": [
    "from dotenv import load_dotenv\n",
    "load_dotenv()\n",
    "import os"
   ]
  },
  {
   "cell_type": "code",
   "execution_count": 9,
   "metadata": {},
   "outputs": [],
   "source": [
    "# import os\n",
    "# import openai\n",
    "# from getpass import getpass\n",
    "\n",
    "# openai.api_key = getpass(\"OpenAI API Key: \")\n",
    "# os.environ[\"OPENAI_API_KEY\"] = openai.api_key"
   ]
  },
  {
   "cell_type": "markdown",
   "metadata": {},
   "source": [
    "We can call the `async_get_embeddings` method of our `EmbeddingModel()` on a list of `str` and receive a list of `float` back!\n",
    "\n",
    "```python\n",
    "async def async_get_embeddings(self, list_of_text: List[str]) -> List[List[float]]:\n",
    "        return await aget_embeddings(\n",
    "            list_of_text=list_of_text, engine=self.embeddings_model_name\n",
    "        )\n",
    "```"
   ]
  },
  {
   "cell_type": "markdown",
   "metadata": {},
   "source": [
    "We cast those to `np.array` when we build our `VectorDatabase()`:\n",
    "\n",
    "```python\n",
    "async def abuild_from_list(self, list_of_text: List[str]) -> \"VectorDatabase\":\n",
    "        embeddings = await self.embedding_model.async_get_embeddings(list_of_text)\n",
    "        for text, embedding in zip(list_of_text, embeddings):\n",
    "            self.insert(text, np.array(embedding))\n",
    "        return self\n",
    "```\n",
    "\n",
    "And that's all we need to do!"
   ]
  },
  {
   "cell_type": "code",
   "execution_count": 15,
   "metadata": {},
   "outputs": [],
   "source": [
    "vector_db = VectorDatabase()\n",
    "vector_db = asyncio.run(vector_db.abuild_from_list(split_documents))"
   ]
  },
  {
   "cell_type": "markdown",
   "metadata": {},
   "source": [
    "#### ❓QUESTION:\n",
    "\n",
    "What advantage does an async implementation provide for us?"
   ]
  },
  {
   "cell_type": "markdown",
   "metadata": {},
   "source": [
    "So, to review what we've done so far in natural language:\n",
    "\n",
    "1. We load source documents\n",
    "2. We split those source documents into smaller chunks (documents)\n",
    "3. We send each of those documents to the `text-embedding-3-small` OpenAI API endpoint\n",
    "4. We store each of the text representations with the vector representations as keys/values in a dictionary"
   ]
  },
  {
   "cell_type": "markdown",
   "metadata": {},
   "source": [
    "### Semantic Similarity\n",
    "\n",
    "The next step is to be able to query our `VectorDatabase()` with a `str` and have it return to us vectors and text that is most relevant from our corpus. \n",
    "\n",
    "We're going to use the following process to achieve this in our toy example:\n",
    "\n",
    "1. We need to embed our query with the same `EmbeddingModel()` as we used to construct our `VectorDatabase()`\n",
    "2. We loop through every vector in our `VectorDatabase()` and use a distance measure to compare how related they are\n",
    "3. We return a list of the top `k` closest vectors, with their text representations\n",
    "\n",
    "There's some very heavy optimization that can be done at each of these steps - but let's just focus on the basic pattern in this notebook.\n",
    "\n",
    "> We are using [cosine similarity](https://www.engati.com/glossary/cosine-similarity) as a distance metric in this example - but there are many many distance metrics you could use - like [these](https://flavien-vidal.medium.com/similarity-distances-for-natural-language-processing-16f63cd5ba55)\n",
    "\n",
    "> We are using a rather inefficient way of calculating relative distance between the query vector and all other vectors - there are more advanced approaches that are much more efficient, like [ANN](https://towardsdatascience.com/comprehensive-guide-to-approximate-nearest-neighbors-algorithms-8b94f057d6b6)"
   ]
  },
  {
   "cell_type": "code",
   "execution_count": 16,
   "metadata": {},
   "outputs": [
    {
     "data": {
      "text/plain": [
       "[(\"8–30\\nCustomer Information and Reporting Safety Defects\\nTire Information (U.S.A.)\\nLocation of the Tire Label (Placard)\\nYou will find the tire label containing tire inflation pressure by tire size and other important \\ninformation on the driver's side B-pillar or on the edge of the driver's door frame.\\nSAMPLE\\n Recommended Tire Inflation Pressure\\nOn the tire label you will find the recommended tire inflation pressure in both kPa and \\npsi for the tires installed as original equipment on the vehicle. It is very important that the \\ninflation pressure of the tires on your vehicle is maintained at the recommended pressure. \\nYou should check the tire pressure regularly to insure that the proper inflation pressure is \\nmaintained.\\nRefer to Tires on page 9-10.\\nNOTE\\nTire pressures listed on the vehicle placard or tire information label indicate the \\nrecommended cold tire inflation pressure, measured when the tires are cold, after the vehicle \\nhas been parked for at least 3 hours. As you drive, the t\",\n",
       "  0.6720209004115508),\n",
       " ('placard or tire information label indicate the \\nrecommended cold tire inflation pressure, measured when the tires are cold, after the vehicle \\nhas been parked for at least 3 hours. As you drive, the temperature in the tire warms up, \\nincreasing the tire pressure.\\nMazda3_8FL6-EA-16F_Edition1.indb   30 2016/05/16   17:36:53',\n",
       "  0.5926026373881226),\n",
       " ('.............. 8-23\\nTire Information (U.S.A.)  ................. 8-25\\nTire Labeling  ................................ 8-25\\nLocation of the Tire Label  \\n(Placard)  ....................................... 8-30\\nTire Maintenance  ......................... 8-33\\nVehicle Loading  ........................... 8-36\\nSteps for Determining the Correct \\nLoad Limit  ................................... 8-42\\nDeclaration of Conformity  ............... 8-43\\nDeclaration of Conformity  ........... 8-43\\nMazda3_8FL6-EA-16F_Edition1.indb   1 2016/05/16   17:36:51',\n",
       "  0.579469509779445)]"
      ]
     },
     "execution_count": 16,
     "metadata": {},
     "output_type": "execute_result"
    }
   ],
   "source": [
    "# vector_db.search_by_text(\"Your servant Kent. Where is your servant Caius?\", k=3)\n",
    "vector_db.search_by_text(\"Where is the tire pressure label on my car?\", k=3)"
   ]
  },
  {
   "cell_type": "markdown",
   "metadata": {},
   "source": [
    "# Prompts\n",
    "\n",
    "In the following section, we'll be looking at the role of prompts - and how they help us to guide our application in the right direction.\n",
    "\n",
    "In this notebook, we're going to rely on the idea of \"zero-shot in-context learning\".\n",
    "\n",
    "This is a lot of words to say: \"We will ask it to perform our desired task in the prompt, and provide no examples.\""
   ]
  },
  {
   "cell_type": "markdown",
   "metadata": {},
   "source": [
    "### XYZRolePrompt\n",
    "\n",
    "Before we do that, let's stop and think a bit about how OpenAI's chat models work. \n",
    "\n",
    "We know they have roles - as is indicated in the following API [documentation](https://platform.openai.com/docs/api-reference/chat/create#chat/create-messages)\n",
    "\n",
    "There are three roles, and they function as follows (taken directly from [OpenAI](https://platform.openai.com/docs/guides/gpt/chat-completions-api)): \n",
    "\n",
    "- `{\"role\" : \"system\"}` : The system message helps set the behavior of the assistant. For example, you can modify the personality of the assistant or provide specific instructions about how it should behave throughout the conversation. However note that the system message is optional and the model’s behavior without a system message is likely to be similar to using a generic message such as \"You are a helpful assistant.\"\n",
    "- `{\"role\" : \"user\"}` : The user messages provide requests or comments for the assistant to respond to.\n",
    "- `{\"role\" : \"assistant\"}` : Assistant messages store previous assistant responses, but can also be written by you to give examples of desired behavior.\n",
    "\n",
    "The main idea is this: \n",
    "\n",
    "1. You start with a system message that outlines how the LLM should respond, what kind of behaviours you can expect from it, and more\n",
    "2. Then, you can provide a few examples in the form of \"assistant\"/\"user\" pairs\n",
    "3. Then, you prompt the model with the true \"user\" message.\n",
    "\n",
    "In this example, we'll be forgoing the 2nd step for simplicities sake."
   ]
  },
  {
   "cell_type": "markdown",
   "metadata": {},
   "source": [
    "#### Utility Functions\n",
    "\n",
    "You'll notice that we're using some utility functions from the `aimakerspace` module - let's take a peek at these and see what they're doing!"
   ]
  },
  {
   "cell_type": "markdown",
   "metadata": {},
   "source": [
    "##### XYZRolePrompt"
   ]
  },
  {
   "cell_type": "markdown",
   "metadata": {},
   "source": [
    "Here we have our `system`, `user`, and `assistant` role prompts. \n",
    "\n",
    "Let's take a peek at what they look like:\n",
    "\n",
    "```python\n",
    "class BasePrompt:\n",
    "    def __init__(self, prompt):\n",
    "        \"\"\"\n",
    "        Initializes the BasePrompt object with a prompt template.\n",
    "\n",
    "        :param prompt: A string that can contain placeholders within curly braces\n",
    "        \"\"\"\n",
    "        self.prompt = prompt\n",
    "        self._pattern = re.compile(r\"\\{([^}]+)\\}\")\n",
    "\n",
    "    def format_prompt(self, **kwargs):\n",
    "        \"\"\"\n",
    "        Formats the prompt string using the keyword arguments provided.\n",
    "\n",
    "        :param kwargs: The values to substitute into the prompt string\n",
    "        :return: The formatted prompt string\n",
    "        \"\"\"\n",
    "        matches = self._pattern.findall(self.prompt)\n",
    "        return self.prompt.format(**{match: kwargs.get(match, \"\") for match in matches})\n",
    "\n",
    "    def get_input_variables(self):\n",
    "        \"\"\"\n",
    "        Gets the list of input variable names from the prompt string.\n",
    "\n",
    "        :return: List of input variable names\n",
    "        \"\"\"\n",
    "        return self._pattern.findall(self.prompt)\n",
    "```\n",
    "\n",
    "Then we have our `RolePrompt` which laser focuses us on the role pattern found in most API endpoints for LLMs.\n",
    "\n",
    "```python\n",
    "class RolePrompt(BasePrompt):\n",
    "    def __init__(self, prompt, role: str):\n",
    "        \"\"\"\n",
    "        Initializes the RolePrompt object with a prompt template and a role.\n",
    "\n",
    "        :param prompt: A string that can contain placeholders within curly braces\n",
    "        :param role: The role for the message ('system', 'user', or 'assistant')\n",
    "        \"\"\"\n",
    "        super().__init__(prompt)\n",
    "        self.role = role\n",
    "\n",
    "    def create_message(self, **kwargs):\n",
    "        \"\"\"\n",
    "        Creates a message dictionary with a role and a formatted message.\n",
    "\n",
    "        :param kwargs: The values to substitute into the prompt string\n",
    "        :return: Dictionary containing the role and the formatted message\n",
    "        \"\"\"\n",
    "        return {\"role\": self.role, \"content\": self.format_prompt(**kwargs)}\n",
    "```\n",
    "\n",
    "We'll look at how the `SystemRolePrompt` is constructed to get a better idea of how that extension works:\n",
    "\n",
    "```python\n",
    "class SystemRolePrompt(RolePrompt):\n",
    "    def __init__(self, prompt: str):\n",
    "        super().__init__(prompt, \"system\")\n",
    "```\n",
    "\n",
    "That pattern is repeated for our `UserRolePrompt` and our `AssistantRolePrompt` as well."
   ]
  },
  {
   "cell_type": "markdown",
   "metadata": {},
   "source": [
    "##### ChatOpenAI"
   ]
  },
  {
   "cell_type": "markdown",
   "metadata": {},
   "source": [
    "Next we have our model, which is converted to a format analagous to libraries like LangChain and LlamaIndex.\n",
    "\n",
    "Let's take a peek at how that is constructed:\n",
    "\n",
    "```python\n",
    "class ChatOpenAI:\n",
    "    def __init__(self, model_name: str = \"gpt-3.5-turbo\"):\n",
    "        self.model_name = model_name\n",
    "        self.openai_api_key = os.getenv(\"OPENAI_API_KEY\")\n",
    "        if self.openai_api_key is None:\n",
    "            raise ValueError(\"OPENAI_API_KEY is not set\")\n",
    "\n",
    "    def run(self, messages, text_only: bool = True):\n",
    "        if not isinstance(messages, list):\n",
    "            raise ValueError(\"messages must be a list\")\n",
    "\n",
    "        openai.api_key = self.openai_api_key\n",
    "        response = openai.ChatCompletion.create(\n",
    "            model=self.model_name, messages=messages\n",
    "        )\n",
    "\n",
    "        if text_only:\n",
    "            return response.choices[0].message.content\n",
    "\n",
    "        return response\n",
    "```"
   ]
  },
  {
   "cell_type": "markdown",
   "metadata": {},
   "source": [
    "#### ❓QUESTION:\n",
    "\n",
    "How could we ensure our LLM always responded the same way to our inputs? Set the temperate parameter to zero"
   ]
  },
  {
   "cell_type": "markdown",
   "metadata": {},
   "source": [
    "### Creating and Prompting OpenAI's `gpt-3.5-turbo`!\n",
    "\n",
    "Let's tie all these together and use it to prompt `gpt-3.5-turbo`!"
   ]
  },
  {
   "cell_type": "code",
   "execution_count": 19,
   "metadata": {},
   "outputs": [],
   "source": [
    "from aimakerspace.openai_utils.prompts import (\n",
    "    UserRolePrompt,\n",
    "    SystemRolePrompt,\n",
    "    AssistantRolePrompt,\n",
    ")\n",
    "\n",
    "from aimakerspace.openai_utils.chatmodel import ChatOpenAI\n",
    "\n",
    "chat_openai = ChatOpenAI()\n",
    "user_prompt_template = \"{content}\"\n",
    "user_role_prompt = UserRolePrompt(user_prompt_template)\n",
    "system_prompt_template = (\n",
    "    \"You are an expert in {expertise}, you always answer in a kind way.\"\n",
    ")\n",
    "system_role_prompt = SystemRolePrompt(system_prompt_template)\n",
    "\n",
    "messages = [\n",
    "    user_role_prompt.create_message(\n",
    "        content=\"What is the best way to write a loop?\"\n",
    "    ),\n",
    "    system_role_prompt.create_message(expertise=\"Python\"),\n",
    "]\n",
    "\n",
    "response = chat_openai.run(messages)"
   ]
  },
  {
   "cell_type": "code",
   "execution_count": 13,
   "metadata": {},
   "outputs": [
    {
     "name": "stdout",
     "output_type": "stream",
     "text": [
      "The best way to write a loop depends on the specific requirements of your code, but generally, I recommend following these principles:\n",
      "\n",
      "1. Use the right loop type: Choose between a for loop and a while loop based on the situation. Use a for loop when you know the number of iterations in advance, and use a while loop when the termination condition is based on a runtime expression.\n",
      "\n",
      "2. Keep it simple and readable: Avoid overly complex or nested loops that can be difficult to understand. Make sure the loop body is concise and clearly conveys its purpose.\n",
      "\n",
      "3. Initialize loop variables properly: When using a for loop, make sure to properly initialize the iterator variable. When using a while loop, ensure that the loop control variable is set correctly to avoid infinite loops.\n",
      "\n",
      "4. Ensure proper termination: Whether using a for loop or a while loop, make sure that the termination condition is correctly defined to prevent the loop from running indefinitely.\n",
      "\n",
      "5. Handle exceptions: If there are potential exceptions that could occur within the loop, handle them gracefully to avoid crashing the program.\n",
      "\n",
      "Overall, the best way to write a loop is to keep it simple, readable, and efficient, while ensuring that it meets the specific requirements of your code.\n"
     ]
    }
   ],
   "source": [
    "print(response)"
   ]
  },
  {
   "cell_type": "markdown",
   "metadata": {},
   "source": [
    "### Retrieval Augmented Question Answering Prompt\n",
    "\n",
    "Now we can create a RAQA prompt - which will help our system behave in a way that makes sense!\n",
    "\n",
    "There is much you could do here, many tweaks and improvements to be made!"
   ]
  },
  {
   "cell_type": "code",
   "execution_count": 20,
   "metadata": {},
   "outputs": [],
   "source": [
    "RAQA_PROMPT_TEMPLATE = \"\"\" \\\n",
    "Use the provided context to answer the user's query.\n",
    "\n",
    "You may not answer the user's query unless there is specific context in the following text.\n",
    "\n",
    "If you do not know the answer, or cannot answer, please respond with \"I don't know\".\n",
    "\n",
    "Make sure you first confirm that the context is relevant to the user's query.\n",
    "It you decide the response is not relevant, please respond with \"This query doesn't seem to be relevant to the source document.\"\n",
    "\n",
    "\"\"\"\n",
    "\n",
    "\n",
    "first_user_prompt = \"\"\"\n",
    "Context:\n",
    "Always ensure that your tires are inflated to the correct pressure (page 6-2).\n",
    "Under-inflated tires can cause poor handling and fuel economy (page 7-2).\n",
    "The optimal tire pressures are stamped on the inside of the driver's side door (page 3-9).\n",
    "Over-inflated tires can cause poor handling and uneven wear (page 1-4).\n",
    "\n",
    "User Query:\n",
    "How can I determine the correct tire pressure for my car?\n",
    "\n",
    "\"\"\"\n",
    "\n",
    "first_assistant = \"\"\"\n",
    "Answer:\n",
    "Let's think step by step: The optimal tire pressure is mentioned in the context on page 3-9.\n",
    "    Assuming optimal is correct, I have the answer about how the user can determine the correction tire pressure.\n",
    "    The answer is: The optimal tire pressures are stamped on the inside of the driver's side door.\n",
    "\"\"\"\n",
    "\n",
    "second_user_prompt = \"\"\"\n",
    "Context:\n",
    "Window wipers are required by law.\n",
    "The wipers should be replaced every 6 months.\n",
    "We recommend replacing the wipers every 6 months.\n",
    "Wipers should be cleaned regularly.\n",
    "\n",
    "User Query:\n",
    "What brand of window wipers should I buy for my Mazda 3?\n",
    "\n",
    "\"\"\"\n",
    "\n",
    "second_asssistant = \"\"\"\n",
    "Answer:\n",
    "Let's think step by step: The user is asking for a specific brand of window wipers. The context does not mention a specific brand.\n",
    "\"\"\"\n",
    "\n",
    "raqa_prompt = SystemRolePrompt(RAQA_PROMPT_TEMPLATE)\n",
    "# raqa_prompt.add_message(first_user_prompt, first_assistant)\n",
    "first_user = UserRolePrompt(first_user_prompt)\n",
    "first_assistant = AssistantRolePrompt(first_assistant)\n",
    "second_user = UserRolePrompt(second_user_prompt)\n",
    "second_assistant = AssistantRolePrompt(second_asssistant)\n",
    "\n",
    "USER_PROMPT_TEMPLATE = \"\"\" \\\n",
    "Context:\n",
    "{context}\n",
    "\n",
    "User Query:\n",
    "{user_query}\n",
    "\n",
    "Answer:\n",
    "Let's think step by step:\n",
    "\"\"\"\n",
    "\n",
    "\n",
    "user_prompt = UserRolePrompt(USER_PROMPT_TEMPLATE)\n",
    "\n",
    "class RetrievalAugmentedQAPipeline:\n",
    "    def __init__(self, llm: ChatOpenAI(), vector_db_retriever: VectorDatabase) -> None:\n",
    "        self.llm = llm\n",
    "        self.vector_db_retriever = vector_db_retriever\n",
    "\n",
    "    def run_pipeline(self, user_query: str) -> str:\n",
    "        context_list = self.vector_db_retriever.search_by_text(user_query, k=4)\n",
    "        \n",
    "        context_prompt = \"\"\n",
    "        for context in context_list:\n",
    "            context_prompt += context[0] + \"\\n\"\n",
    "\n",
    "        formatted_system_prompt = raqa_prompt.create_message()\n",
    "        formatted_first_user = first_user.create_message()\n",
    "        formatted_first_assistant = first_assistant.create_message()\n",
    "        formatted_second_user = second_user.create_message()\n",
    "        formatted_second_assistant = second_assistant.create_message()\n",
    "\n",
    "        formatted_user_prompt = user_prompt.create_message(user_query=user_query, context=context_prompt)\n",
    "        \n",
    "        return self.llm.run([formatted_system_prompt, formatted_first_user, formatted_first_assistant, formatted_second_user, formatted_second_assistant, formatted_user_prompt])"
   ]
  },
  {
   "cell_type": "code",
   "execution_count": null,
   "metadata": {},
   "outputs": [],
   "source": []
  },
  {
   "cell_type": "markdown",
   "metadata": {},
   "source": [
    "#### ❓QUESTION:\n",
    "\n",
    "What changes could you make that would encourage the LLM to have a more well thought out and verbose response?\n",
    "\n",
    "1. Provide few-shot Chain of Thought examples to encourage the model to reason it's answer out step by step\n",
    "2. Ask it to first validate that the context is relevant to the query. Ask it to take a step by step approach to answering the question and make sure to provide reasoning and cite sources before actually sharing the final answer.\n",
    "\n",
    "\n",
    "What is this method called? Few-Shot Chain of Thought reasoning"
   ]
  },
  {
   "cell_type": "code",
   "execution_count": 21,
   "metadata": {},
   "outputs": [],
   "source": [
    "retrieval_augmented_qa_pipeline = RetrievalAugmentedQAPipeline(\n",
    "    vector_db_retriever=vector_db,\n",
    "    llm=chat_openai\n",
    ")"
   ]
  },
  {
   "cell_type": "code",
   "execution_count": 22,
   "metadata": {},
   "outputs": [
    {
     "name": "stdout",
     "output_type": "stream",
     "text": [
      "The user is asking whether they should care about tire pressure in their Mazda 3. The context indicates that maintaining the recommended tire pressure is crucial for the best ride, handling, and minimum tire wear. Additionally, the Tire Pressure Monitoring System (TPMS) is mentioned as a tool to help ensure the tire pressure is at the correct level. Based on this information, it is important to pay attention to and care about the tire pressure in your Mazda 3 to ensure optimal performance and safety.\n"
     ]
    }
   ],
   "source": [
    "output = retrieval_augmented_qa_pipeline.run_pipeline(\"Should I care about tire pressure in my Mazda 3?\")\n",
    "print(output)"
   ]
  },
  {
   "cell_type": "markdown",
   "metadata": {},
   "source": [
    "### Visibility Tooling\n",
    "\n",
    "This is great, but what if we wanted to add some visibility to our pipeline?\n",
    "\n",
    "Let's use Weights and Biases as a visibility tool!\n",
    "\n",
    "The first thing we'll need to do is create a Weights and Biases account and get an API key. \n",
    "\n",
    "You can follow the process outlined [here](https://docs.wandb.ai/quickstart) to do exactly that!"
   ]
  },
  {
   "cell_type": "markdown",
   "metadata": {},
   "source": [
    "Now we can get the Weights and Biases dependency and add our key to our env. to begin!"
   ]
  },
  {
   "cell_type": "code",
   "execution_count": 17,
   "metadata": {},
   "outputs": [
    {
     "name": "stdout",
     "output_type": "stream",
     "text": [
      "\u001b[33mWARNING: 401 Error, Credentials not correct for https://pkgs.dev.azure.com/conexiom/Olympus/_packaging/elysium/pypi/simple/wandb/\u001b[0m\u001b[33m\n",
      "\u001b[0m"
     ]
    }
   ],
   "source": [
    "!pip install -q -U wandb"
   ]
  },
  {
   "cell_type": "code",
   "execution_count": 23,
   "metadata": {},
   "outputs": [
    {
     "name": "stdout",
     "output_type": "stream",
     "text": [
      "True\n"
     ]
    }
   ],
   "source": [
    "# wandb_key = getpass(\"Weights and Biases API Key: \")\n",
    "# os.environ[\"WANDB_API_KEY\"] = wandb_key\n",
    "from pathlib import Path\n",
    "print(Path(\"RAQA_simon.ipynb\").exists())"
   ]
  },
  {
   "cell_type": "code",
   "execution_count": 24,
   "metadata": {},
   "outputs": [
    {
     "name": "stderr",
     "output_type": "stream",
     "text": [
      "\u001b[34m\u001b[1mwandb\u001b[0m: Currently logged in as: \u001b[33msimonrmonk\u001b[0m. Use \u001b[1m`wandb login --relogin`\u001b[0m to force relogin\n"
     ]
    },
    {
     "data": {
      "text/html": [
       "Tracking run with wandb version 0.16.3"
      ],
      "text/plain": [
       "<IPython.core.display.HTML object>"
      ]
     },
     "metadata": {},
     "output_type": "display_data"
    },
    {
     "data": {
      "text/html": [
       "Run data is saved locally in <code>/home/smonk/workspace/AI-Engineering/Week 2/Day 1/wandb/run-20240227_043251-6wc3lvro</code>"
      ],
      "text/plain": [
       "<IPython.core.display.HTML object>"
      ]
     },
     "metadata": {},
     "output_type": "display_data"
    },
    {
     "data": {
      "text/html": [
       "Syncing run <strong><a href='https://wandb.ai/simonrmonk/Visibility%20Example%20V7/runs/6wc3lvro' target=\"_blank\">valiant-glitter-3</a></strong> to <a href='https://wandb.ai/simonrmonk/Visibility%20Example%20V7' target=\"_blank\">Weights & Biases</a> (<a href='https://wandb.me/run' target=\"_blank\">docs</a>)<br/>"
      ],
      "text/plain": [
       "<IPython.core.display.HTML object>"
      ]
     },
     "metadata": {},
     "output_type": "display_data"
    },
    {
     "data": {
      "text/html": [
       " View project at <a href='https://wandb.ai/simonrmonk/Visibility%20Example%20V7' target=\"_blank\">https://wandb.ai/simonrmonk/Visibility%20Example%20V7</a>"
      ],
      "text/plain": [
       "<IPython.core.display.HTML object>"
      ]
     },
     "metadata": {},
     "output_type": "display_data"
    },
    {
     "data": {
      "text/html": [
       " View run at <a href='https://wandb.ai/simonrmonk/Visibility%20Example%20V7/runs/6wc3lvro' target=\"_blank\">https://wandb.ai/simonrmonk/Visibility%20Example%20V7/runs/6wc3lvro</a>"
      ],
      "text/plain": [
       "<IPython.core.display.HTML object>"
      ]
     },
     "metadata": {},
     "output_type": "display_data"
    },
    {
     "data": {
      "text/html": [
       "<button onClick=\"this.nextSibling.style.display='block';this.style.display='none';\">Display W&B run</button><iframe src='https://wandb.ai/simonrmonk/Visibility%20Example%20V7/runs/6wc3lvro?jupyter=true' style='border:none;width:100%;height:420px;display:none;'></iframe>"
      ],
      "text/plain": [
       "<wandb.sdk.wandb_run.Run at 0x7fdfd4b4b810>"
      ]
     },
     "execution_count": 24,
     "metadata": {},
     "output_type": "execute_result"
    }
   ],
   "source": [
    "os.environ[\"WANDB_NOTEBOOK_NAME\"] = \"RAQA_simon.ipynb\"\n",
    "import wandb\n",
    "# settings=wandb.Settings(disable_job_creation=True)\n",
    "wandb.init(project=\"Visibility Example V7\") #, settings=settings)"
   ]
  },
  {
   "cell_type": "markdown",
   "metadata": {},
   "source": [
    "Now we can integrate Weights and Biases into our `RetrievalAugmentedQAPipeline`.\n",
    "\n",
    "```python\n",
    "if self.wandb_project:\n",
    "            root_span = Trace(\n",
    "                name=\"root_span\",\n",
    "                kind=\"llm\",\n",
    "                status_code=status,\n",
    "                status_message=status_message,\n",
    "                start_time_ms=start_time,\n",
    "                end_time_ms=end_time,\n",
    "                metadata={\n",
    "                    \"token_usage\" : token_usage\n",
    "                },\n",
    "                inputs= {\"system_prompt\" : formatted_system_prompt, \"user_prompt\" : formatted_user_prompt},\n",
    "                outputs= {\"response\" : response_text}\n",
    "            )\n",
    "\n",
    "            root_span.log(name=\"openai_trace\")\n",
    "```\n",
    "\n",
    "The main things to consider here are how to populate the various fields to make sure we're tracking useful information. \n",
    "\n",
    "We'll use the `text_only` flag to ensure we can get detailed information about our LLM call!\n",
    "\n",
    "You can check out all the parameters for Weights and Biases `Trace` [here](https://github.com/wandb/wandb/blob/653015a014281f45770aaf43627f64d9c4f04a32/wandb/sdk/data_types/trace_tree.py#L166)"
   ]
  },
  {
   "cell_type": "code",
   "execution_count": 25,
   "metadata": {},
   "outputs": [],
   "source": [
    "import datetime\n",
    "from wandb.sdk.data_types.trace_tree import Trace\n",
    "inputs_dict = {}\n",
    "\n",
    "class RetrievalAugmentedQAPipeline:\n",
    "    def __init__(self, llm: ChatOpenAI(), vector_db_retriever: VectorDatabase, wandb_project = None) -> None:\n",
    "        self.llm = llm\n",
    "        self.vector_db_retriever = vector_db_retriever\n",
    "        self.wandb_project = wandb_project\n",
    "\n",
    "    def run_pipeline(self, user_query: str) -> str:\n",
    "        # global inputs_dict\n",
    "        context_list = self.vector_db_retriever.search_by_text(user_query, k=4)\n",
    "        \n",
    "        context_prompt = \"\"\n",
    "        for context in context_list:\n",
    "            context_prompt += context[0] + \"\\n\"\n",
    "\n",
    "        formatted_system_prompt = raqa_prompt.create_message()\n",
    "\n",
    "        formatted_user_prompt = user_prompt.create_message(user_query=user_query, context=context_prompt)\n",
    "        formatted_first_user = first_user.create_message()\n",
    "        formatted_first_assistant = first_assistant.create_message()\n",
    "        formatted_second_user = second_user.create_message()\n",
    "        formatted_second_assistant = second_assistant.create_message()\n",
    "        \n",
    "        start_time = datetime.datetime.now().timestamp() * 1000\n",
    "        \n",
    "        inputs = [formatted_system_prompt, formatted_first_user, formatted_first_assistant, formatted_second_user, formatted_second_assistant, formatted_user_prompt]\n",
    "\n",
    "        try:\n",
    "            openai_response = self.llm.run(inputs, text_only=False)\n",
    "            end_time = datetime.datetime.now().timestamp() * 1000\n",
    "            status = \"success\"\n",
    "            status_message = (None, )\n",
    "            response_text = openai_response.choices[0].message.content\n",
    "            token_usage = dict(openai_response.usage)\n",
    "            model = openai_response.model\n",
    "\n",
    "        except Exception as e:\n",
    "            end_time = datetime.datetime.now().timestamp() * 1000\n",
    "            status = \"error\"\n",
    "            status_message = str(e)\n",
    "            response_text = \"\"\n",
    "            token_usage = {}\n",
    "            model = \"\"\n",
    "\n",
    "\n",
    "        if self.wandb_project:\n",
    "            root_span = Trace(\n",
    "                name=\"root_span\",\n",
    "                kind=\"llm\",\n",
    "                status_code=status,\n",
    "                status_message=status_message,\n",
    "                start_time_ms=start_time,\n",
    "                end_time_ms=end_time,\n",
    "                metadata={\n",
    "                    \"token_usage\" : token_usage,\n",
    "                    \"model_name\" : model\n",
    "                },\n",
    "                # inputs= inputs_dict.copy(),\n",
    "                inputs={\"system_prompt\" : formatted_system_prompt, \"user_prompt_1\": formatted_first_user, \"assistant_1\": formatted_first_assistant, \"user_prompt_2\": formatted_second_user, \"assistant_2\": formatted_second_assistant, \"user_prompt_final\" : formatted_user_prompt},\n",
    "                outputs= {\"response\" : response_text}\n",
    "            )\n",
    "\n",
    "            root_span.log(name=\"openai_trace\")\n",
    "        \n",
    "        return response_text if response_text else \"We ran into an error. Please try again later. Full Error Message: \" + status_message"
   ]
  },
  {
   "cell_type": "code",
   "execution_count": 26,
   "metadata": {},
   "outputs": [],
   "source": [
    "retrieval_augmented_qa_pipeline = RetrievalAugmentedQAPipeline(\n",
    "    vector_db_retriever=vector_db,\n",
    "    llm=chat_openai,\n",
    "    wandb_project=\"LLM Visibility Example\"\n",
    ")"
   ]
  },
  {
   "cell_type": "code",
   "execution_count": 63,
   "metadata": {},
   "outputs": [],
   "source": [
    "# retrieval_augmented_qa_pipeline.run_pipeline(\"Who is Batman?\")"
   ]
  },
  {
   "cell_type": "code",
   "execution_count": 27,
   "metadata": {},
   "outputs": [
    {
     "data": {
      "text/plain": [
       "\"The context provides detailed information about determining the recommended tire pressure for your vehicle:\\n1. The tire label with inflation pressure is located on the driver's side B-pillar or on the edge of the driver's door frame.\\n2. The recommended tire inflation pressure is listed in kPa and psi for the tires installed as original equipment on your vehicle.\\n3. The recommended pressure is for cold tires after the vehicle has been parked for at least 3 hours.\\n4. It is crucial to maintain the recommended pressure for the best ride, handling, and minimum tire wear.\\n5. Check the tire pressure regularly to ensure it is at the proper inflation level.\\n6. After adjusting the tire pressure, the tire pressure monitoring system initialization may be necessary for the system to operate normally.\\n\\nSo, to determine your tire pressure, refer to the tire label on the driver's side B-pillar or driver's door frame for the manufacturer's recommended cold tire inflation pressure.\""
      ]
     },
     "execution_count": 27,
     "metadata": {},
     "output_type": "execute_result"
    }
   ],
   "source": [
    "retrieval_augmented_qa_pipeline.run_pipeline(\"What should my tire pressure be?\")"
   ]
  },
  {
   "cell_type": "code",
   "execution_count": 28,
   "metadata": {},
   "outputs": [
    {
     "data": {
      "text/html": [
       " View run <strong style=\"color:#cdcd00\">valiant-glitter-3</strong> at: <a href='https://wandb.ai/simonrmonk/Visibility%20Example%20V7/runs/6wc3lvro' target=\"_blank\">https://wandb.ai/simonrmonk/Visibility%20Example%20V7/runs/6wc3lvro</a><br/> View job at <a href='https://wandb.ai/simonrmonk/Visibility%20Example%20V7/jobs/QXJ0aWZhY3RDb2xsZWN0aW9uOjE0MzM0OTg2Mg==/version_details/v0' target=\"_blank\">https://wandb.ai/simonrmonk/Visibility%20Example%20V7/jobs/QXJ0aWZhY3RDb2xsZWN0aW9uOjE0MzM0OTg2Mg==/version_details/v0</a><br/>Synced 5 W&B file(s), 0 media file(s), 2 artifact file(s) and 0 other file(s)"
      ],
      "text/plain": [
       "<IPython.core.display.HTML object>"
      ]
     },
     "metadata": {},
     "output_type": "display_data"
    },
    {
     "data": {
      "text/html": [
       "Find logs at: <code>./wandb/run-20240227_043251-6wc3lvro/logs</code>"
      ],
      "text/plain": [
       "<IPython.core.display.HTML object>"
      ]
     },
     "metadata": {},
     "output_type": "display_data"
    }
   ],
   "source": [
    "wandb.finish()"
   ]
  },
  {
   "cell_type": "markdown",
   "metadata": {},
   "source": [
    "Navigate to the Weights and Biases \"run\" link to see how your LLM is performing!\n",
    "\n",
    "```\n",
    "View run at YOUR LINK HERE\n",
    "```"
   ]
  },
  {
   "cell_type": "markdown",
   "metadata": {},
   "source": [
    "#### ❓QUESTION:\n",
    "\n",
    "What is the `model_name` from the WandB `root_span` trace?"
   ]
  },
  {
   "cell_type": "markdown",
   "metadata": {},
   "source": [
    "# Conclusion\n",
    "\n",
    "In this notebook, we've gone through the steps required to create your own simple RAQA application!\n",
    "\n",
    "Please feel free to extend this as much as you'd like. "
   ]
  }
 ],
 "metadata": {
  "kernelspec": {
   "display_name": "buildyourownlangchain",
   "language": "python",
   "name": "python3"
  },
  "language_info": {
   "codemirror_mode": {
    "name": "ipython",
    "version": 3
   },
   "file_extension": ".py",
   "mimetype": "text/x-python",
   "name": "python",
   "nbconvert_exporter": "python",
   "pygments_lexer": "ipython3",
   "version": "3.11.7"
  },
  "orig_nbformat": 4
 },
 "nbformat": 4,
 "nbformat_minor": 2
}
