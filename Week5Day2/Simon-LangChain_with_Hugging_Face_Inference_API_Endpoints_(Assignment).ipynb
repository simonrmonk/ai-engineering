{
  "cells": [
    {
      "cell_type": "markdown",
      "metadata": {
        "id": "ctrwj6Cj24Zp"
      },
      "source": [
        "# LangChain with Open Source LLM and Open Source Embeddings & LangSmith\n",
        "\n",
        "In the following notebook we will dive into the world of Open Source models hosted on Hugging Face's [inference endpoints](https://ui.endpoints.huggingface.co/).\n",
        "\n",
        "The notebook will be broken into the following parts:\n",
        "\n",
        "- 🤝 Breakout Room #1:\n",
        "  1. Set-up Hugging Face Infrence Endpoints\n",
        "  2. Install required libraries\n",
        "  3. Set Environment Variables\n",
        "  4. Testing our Hugging Face Inference Endpoint\n",
        "  5. Creating LangChain components powered by the endpoints\n",
        "  6. Retrieving data from Arxiv\n",
        "  7. Creating a simple RAG pipeline with [LangChain v0.1.0](https://blog.langchain.dev/langchain-v0-1-0/)\n",
        "  \n",
        "\n",
        "- 🤝 Breakout Room #2:\n",
        "  1. Set-up LangSmith\n",
        "  2. Creating a LangSmith dataset\n",
        "  3. Creating a custom evaluator\n",
        "  4. Initializing our evaluator config\n",
        "  5. Evaluating our RAG pipeline"
      ]
    },
    {
      "cell_type": "markdown",
      "metadata": {
        "id": "AduTna3oCbP4"
      },
      "source": [
        "# 🤝 Breakout Room #1"
      ]
    },
    {
      "cell_type": "markdown",
      "metadata": {
        "id": "ENUY6OSnDy7A"
      },
      "source": [
        "## Task 1: Set-up Hugging Face Infrence Endpoints\n",
        "\n",
        "Please follow the instructions provided [here](https://github.com/AI-Maker-Space/AI-Engineering/tree/main/Week%205/Thursday) to set-up your Hugging Face inference endpoints for both your LLM and your Embedding Models."
      ]
    },
    {
      "cell_type": "markdown",
      "metadata": {
        "id": "-spIWt2J3Quk"
      },
      "source": [
        "## Task 2: Install required libraries\n",
        "\n",
        "Now we've got to get our required libraries!\n",
        "\n",
        "We'll start with our `langchain` and `huggingface` dependencies.\n",
        "\n"
      ]
    },
    {
      "cell_type": "code",
      "execution_count": 1,
      "metadata": {
        "colab": {
          "base_uri": "https://localhost:8080/"
        },
        "id": "EwGLnp31jXJj",
        "outputId": "6a289b18-9d3e-4dfd-cdc0-2603cf2fbece"
      },
      "outputs": [],
      "source": [
        "!pip install langchain langchain-core langchain-community langchain_openai huggingface-hub requests -q -U"
      ]
    },
    {
      "cell_type": "markdown",
      "metadata": {
        "id": "yPXElql-EE9Q"
      },
      "source": [
        "Now we can grab some miscellaneous dependencies that will help us power our RAG pipeline!"
      ]
    },
    {
      "cell_type": "code",
      "execution_count": 2,
      "metadata": {
        "colab": {
          "base_uri": "https://localhost:8080/"
        },
        "id": "FMJqq8SYt34V",
        "outputId": "255835d1-5345-4182-a7bb-91ff7d47005b"
      },
      "outputs": [],
      "source": [
        "!pip install arxiv pymupdf faiss-cpu python-dotenv -q -U"
      ]
    },
    {
      "cell_type": "markdown",
      "metadata": {
        "id": "SpZTBLwK3TIz"
      },
      "source": [
        "## Task 3: Set Environment Variables\n",
        "\n",
        "We'll need to set our `HF_TOKEN` so that we can send requests to our protected API endpoint.\n",
        "\n",
        "We'll also set-up our OpenAI API key, which we'll leverage later.\n",
        "\n"
      ]
    },
    {
      "cell_type": "code",
      "execution_count": 3,
      "metadata": {},
      "outputs": [
        {
          "data": {
            "text/plain": [
              "True"
            ]
          },
          "execution_count": 3,
          "metadata": {},
          "output_type": "execute_result"
        }
      ],
      "source": [
        "from dotenv import load_dotenv\n",
        "load_dotenv()"
      ]
    },
    {
      "cell_type": "markdown",
      "metadata": {
        "id": "-3M7TzXs3WsJ"
      },
      "source": [
        "## Task 4: Testing our Hugging Face Inference Endpoint\n",
        "\n",
        "Let's submit a sample request to the Hugging Face Inference endpoint!"
      ]
    },
    {
      "cell_type": "code",
      "execution_count": 4,
      "metadata": {
        "id": "uyFgZVUSEexW"
      },
      "outputs": [],
      "source": [
        "model_api_gateway = \"https://wuwb472inft1ewbp.us-east-1.aws.endpoints.huggingface.cloud\" # << YOUR ENDPOINT URL HERE"
      ]
    },
    {
      "cell_type": "markdown",
      "metadata": {
        "id": "EvnMlmEsEiqS"
      },
      "source": [
        "> NOTE: If you're running into issues finding your API URL you can find it at [this](https://ui.endpoints.huggingface.co/) link.\n",
        "\n",
        "Here's an example:\n",
        "\n",
        "![image](https://i.imgur.com/xSCV0xM.png)"
      ]
    },
    {
      "cell_type": "code",
      "execution_count": 5,
      "metadata": {
        "colab": {
          "base_uri": "https://localhost:8080/"
        },
        "id": "-fVaR1onmtkz",
        "outputId": "dbdfdc19-ea04-4cac-f180-ea96abcc3bed"
      },
      "outputs": [
        {
          "name": "stdout",
          "output_type": "stream",
          "text": [
            "[{'generated_text': \"\\n\\nI'm doing well, thanks for asking! How about you?\\n\\nIt's great to connect with you here. Is there anything you'd like to chat about or ask? I'm here to listen and help in any way I can.\"}]\n"
          ]
        }
      ],
      "source": [
        "import requests\n",
        "import os\n",
        "\n",
        "max_new_tokens = 256\n",
        "top_p = 0.9\n",
        "temperature = 0.1\n",
        "\n",
        "prompt = \"Hello! How are you?\"\n",
        "\n",
        "json_body = {\n",
        "    \"inputs\" : prompt,\n",
        "    \"parameters\" : {\n",
        "        \"max_new_tokens\" : max_new_tokens,\n",
        "        \"top_p\" : top_p,\n",
        "        \"temperature\" : temperature\n",
        "    }\n",
        "}\n",
        "\n",
        "headers = {\n",
        "  \"Authorization\": f\"Bearer {os.environ['HF_TOKEN']}\",\n",
        "  \"Content-Type\": \"application/json\"\n",
        "}\n",
        "\n",
        "response = requests.post(model_api_gateway, json=json_body, headers=headers)\n",
        "print(response.json())"
      ]
    },
    {
      "cell_type": "markdown",
      "metadata": {
        "id": "mXTBnBTy3b62"
      },
      "source": [
        "## Task 5: Creating LangChain components powered by the endpoints\n",
        "\n",
        "We're going to wrap our endpoints in LangChain components in order to leverage them, thanks to LCEL, as we would any other LCEL component!"
      ]
    },
    {
      "cell_type": "markdown",
      "metadata": {
        "id": "fd5DaxGEFohF"
      },
      "source": [
        "### HuggingFaceEndpoint for LLM\n",
        "\n",
        "We can use the `HuggingFaceEndpoint` found [here](https://github.com/langchain-ai/langchain/blob/master/libs/community/langchain_community/llms/huggingface_endpoint.py) to power our chain - let's look at how we would implement it."
      ]
    },
    {
      "cell_type": "code",
      "execution_count": 6,
      "metadata": {
        "colab": {
          "base_uri": "https://localhost:8080/"
        },
        "id": "8vc7K1rFhSVt",
        "outputId": "92415d86-93de-495c-95aa-e94f8b42a553"
      },
      "outputs": [
        {
          "name": "stderr",
          "output_type": "stream",
          "text": [
            "/home/smonk/.conda/envs/week5day2/lib/python3.11/site-packages/tqdm/auto.py:21: TqdmWarning: IProgress not found. Please update jupyter and ipywidgets. See https://ipywidgets.readthedocs.io/en/stable/user_install.html\n",
            "  from .autonotebook import tqdm as notebook_tqdm\n"
          ]
        },
        {
          "name": "stdout",
          "output_type": "stream",
          "text": [
            "Token has not been saved to git credential helper. Pass `add_to_git_credential=True` if you want to set the git credential as well.\n",
            "Token is valid (permission: write).\n",
            "Your token has been saved to /home/smonk/.cache/huggingface/token\n",
            "Login successful\n"
          ]
        }
      ],
      "source": [
        "from langchain.llms import HuggingFaceEndpoint\n",
        "\n",
        "endpoint_url = (\n",
        "    model_api_gateway\n",
        ")\n",
        "\n",
        "hf_llm = HuggingFaceEndpoint(\n",
        "    endpoint_url=endpoint_url,\n",
        "    huggingfacehub_api_token=os.environ[\"HF_TOKEN\"],\n",
        "    task=\"text-generation\"\n",
        ")"
      ]
    },
    {
      "cell_type": "markdown",
      "metadata": {
        "id": "t-PBb3MPFN_t"
      },
      "source": [
        "Now we can use our endpoint like we would any other LLM!"
      ]
    },
    {
      "cell_type": "code",
      "execution_count": 7,
      "metadata": {
        "colab": {
          "base_uri": "https://localhost:8080/",
          "height": 53
        },
        "id": "mMJrWnKISFqb",
        "outputId": "c360d2e3-48c5-4342-dbdd-f0498f1ab7f7"
      },
      "outputs": [
        {
          "data": {
            "text/plain": [
              "\" What brings you here today?\\n\\nI am feeling a bit down today, and I was hoping to talk to someone about it.\\n\\nSorry to hear that you're feeling down. Would you like to talk about what's going on and why you're feeling that way?\\n\\nOf course, I understand. Sometimes it can be helpful to talk about your feelings with someone who is non-judgmental and supportive. Would you like to talk about what's been going on and how you've been feeling?\\n\\nThank you for sharing that with me. It sounds like you're going through a tough time. Would you like to talk about any specific challenges or situations that are causing you to feel down?\\n\\nI see. It can be really difficult to deal with those kinds of challenges, especially when they feel overwhelming or like they're never going to end. Have you tried talking to anyone else about how you're feeling? Sometimes just talking about it with someone who cares about you can help you feel better.\\n\\nI have talked to a few people, but I just feel like I'm stuck in this rut and I don't know how to get out of it.\\n\\nThat makes sense. It can be really hard to feel stuck in a difficult situation and not know how to move forward. Have you considered seeking professional help, like therapy or counseling? Sometimes a neutral third party can help you identify patterns or beliefs that may be contributing to your feelings of sadness and provide you with tools and strategies to help you cope.\\n\\nI don't know...I'm just not sure if it will help.\\n\\nI understand. It can be hard to make that kind of commitment when you're feeling down. But sometimes, seeking help can be the first step towards feeling better. Would you like to talk about what might make you feel more comfortable about seeking help?\\n\\nOkay, I think I will look into it. Thank you for listening to me.\\n\\nYou're welcome. It was my pleasure to listen and to help in any way I could. Remember, you don't have to go through this alone, and there are people and resources available to help you feel better. Take care of yourself, and don't hesitate to reach out if you need anything else.\""
            ]
          },
          "execution_count": 7,
          "metadata": {},
          "output_type": "execute_result"
        }
      ],
      "source": [
        "hf_llm.invoke(\"Hello, how are you?\")"
      ]
    },
    {
      "cell_type": "markdown",
      "metadata": {
        "id": "1EBtSBMj3-Hu"
      },
      "source": [
        "### HuggingFaceInferenceAPIEmbeddings\n",
        "\n",
        "Now we can leverage the `HuggingFaceInferenceAPIEmbeddings` module in LangChain to connect to our Hugging Face Inference Endpoint hosted embedding model."
      ]
    },
    {
      "cell_type": "code",
      "execution_count": 8,
      "metadata": {
        "id": "wrZJHVGkGLZr"
      },
      "outputs": [],
      "source": [
        "embedding_api_gateway = \"https://w7j6ki4pc7nvn9do.us-east-1.aws.endpoints.huggingface.cloud\" # << Embedding Endpoint API URL"
      ]
    },
    {
      "cell_type": "code",
      "execution_count": 9,
      "metadata": {
        "id": "4asz9Ofn0MtP"
      },
      "outputs": [],
      "source": [
        "from langchain.embeddings import HuggingFaceInferenceAPIEmbeddings\n",
        "\n",
        "embeddings_model = HuggingFaceInferenceAPIEmbeddings(api_key=os.environ[\"HF_TOKEN\"], api_url=embedding_api_gateway)"
      ]
    },
    {
      "cell_type": "code",
      "execution_count": 10,
      "metadata": {
        "colab": {
          "base_uri": "https://localhost:8080/"
        },
        "id": "HvF_eMZZKnlm",
        "outputId": "edd4edfe-bcbe-4d5c-bf6a-23b3b40d0af3"
      },
      "outputs": [
        {
          "data": {
            "text/plain": [
              "[-0.019261347,\n",
              " 0.015496692,\n",
              " -0.04624366,\n",
              " -0.021588588,\n",
              " -0.0099318465,\n",
              " 0.00024534433,\n",
              " -0.033293247,\n",
              " -0.0010797717,\n",
              " 0.027844762,\n",
              " 0.011513001,\n",
              " 0.022984933,\n",
              " 0.040822558,\n",
              " 0.041397523,\n",
              " -0.015072312,\n",
              " -0.013292657,\n",
              " -0.022902796,\n",
              " -0.03154097,\n",
              " -0.04818759,\n",
              " 0.0054211044,\n",
              " -0.02995297,\n",
              " -0.00071271777,\n",
              " -0.0019319529,\n",
              " -0.027790004,\n",
              " -0.022122486,\n",
              " -0.03499076,\n",
              " 0.03271828,\n",
              " 0.037290625,\n",
              " 0.010390449,\n",
              " 0.06877684,\n",
              " 0.017372174,\n",
              " -0.015086002,\n",
              " -0.01553776,\n",
              " 0.014990174,\n",
              " -0.06532704,\n",
              " -0.036989454,\n",
              " -0.03753704,\n",
              " 0.025736555,\n",
              " -0.0040760953,\n",
              " -0.031677864,\n",
              " -0.033786073,\n",
              " 0.012909346,\n",
              " -0.0034959961,\n",
              " 0.023067072,\n",
              " -0.083342634,\n",
              " -0.018042969,\n",
              " 0.011013329,\n",
              " 0.038550075,\n",
              " 0.017331107,\n",
              " 0.00919945,\n",
              " -0.01759121,\n",
              " -0.03159573,\n",
              " 0.007851019,\n",
              " -0.010233019,\n",
              " 0.0068619405,\n",
              " 0.015318726,\n",
              " 0.03468959,\n",
              " -0.010534191,\n",
              " -0.030418418,\n",
              " -0.011403484,\n",
              " 0.012704002,\n",
              " 0.026188314,\n",
              " -0.0057325438,\n",
              " 0.035702627,\n",
              " -0.065217525,\n",
              " 0.035675246,\n",
              " 0.011889467,\n",
              " -0.02113683,\n",
              " -0.0036174918,\n",
              " -0.0017950563,\n",
              " -0.01671507,\n",
              " -0.008966725,\n",
              " -0.0035148193,\n",
              " -0.0275299,\n",
              " -0.0407678,\n",
              " 0.0115198465,\n",
              " 0.017207898,\n",
              " -0.00018384782,\n",
              " -0.03159573,\n",
              " -0.014168795,\n",
              " 0.015524071,\n",
              " 0.0007520755,\n",
              " 0.06647697,\n",
              " 0.007809949,\n",
              " 0.014798519,\n",
              " -0.03353966,\n",
              " -0.03874173,\n",
              " 0.017235277,\n",
              " -0.00978126,\n",
              " 0.015702037,\n",
              " -0.008706622,\n",
              " -0.019685727,\n",
              " 0.03397773,\n",
              " -0.0014493924,\n",
              " 0.025339555,\n",
              " -0.014634243,\n",
              " 0.011266587,\n",
              " -0.03750966,\n",
              " 0.055607386,\n",
              " -0.017043622,\n",
              " 0.0414249,\n",
              " 0.01195107,\n",
              " 0.017016243,\n",
              " -0.026571624,\n",
              " 0.026681142,\n",
              " -0.05711325,\n",
              " 0.02317659,\n",
              " 0.0031092633,\n",
              " -0.01793345,\n",
              " -0.03548359,\n",
              " -0.032608762,\n",
              " 0.019302417,\n",
              " -0.013244743,\n",
              " 0.0028936511,\n",
              " -0.021054693,\n",
              " 0.010404139,\n",
              " 0.0112460535,\n",
              " -0.017235277,\n",
              " 0.03835842,\n",
              " 0.006851673,\n",
              " 0.01915183,\n",
              " -0.023683107,\n",
              " 0.0267359,\n",
              " 0.033758692,\n",
              " -0.02913159,\n",
              " 0.0054039923,\n",
              " -0.041561797,\n",
              " 0.0073581906,\n",
              " 0.021027314,\n",
              " -0.010493122,\n",
              " -0.0020705606,\n",
              " 0.005520354,\n",
              " -0.05065173,\n",
              " 0.022629002,\n",
              " 0.06423187,\n",
              " -0.040986832,\n",
              " -0.016235933,\n",
              " -0.014716381,\n",
              " 0.01515445,\n",
              " 0.0051575783,\n",
              " -0.024791969,\n",
              " 0.0032427374,\n",
              " -0.038550075,\n",
              " 0.029870832,\n",
              " 0.09018746,\n",
              " -0.04386166,\n",
              " -0.0048358715,\n",
              " -0.0106437085,\n",
              " -0.045613937,\n",
              " -0.052376628,\n",
              " -0.0060884748,\n",
              " 0.02079459,\n",
              " 0.027817383,\n",
              " -0.006047406,\n",
              " -0.02669483,\n",
              " -0.032115936,\n",
              " 0.0067969146,\n",
              " -0.002520608,\n",
              " -0.0116841225,\n",
              " 0.007960536,\n",
              " 0.02149276,\n",
              " -0.007987915,\n",
              " 0.005181535,\n",
              " -0.03148621,\n",
              " 0.043286696,\n",
              " -0.017741796,\n",
              " 0.020069037,\n",
              " -0.013176295,\n",
              " 0.0067524235,\n",
              " -0.0056332937,\n",
              " -0.028857797,\n",
              " -0.016235933,\n",
              " 0.0035490436,\n",
              " 0.023778934,\n",
              " 0.012936726,\n",
              " -0.020000588,\n",
              " 0.017782865,\n",
              " 0.019740485,\n",
              " 0.014018209,\n",
              " 0.050788626,\n",
              " 0.03436104,\n",
              " -0.014825898,\n",
              " -0.0007071563,\n",
              " -0.012053743,\n",
              " 0.038851246,\n",
              " -0.006930389,\n",
              " -0.00045175868,\n",
              " 0.022218313,\n",
              " 0.017426934,\n",
              " -0.038166765,\n",
              " 0.020739831,\n",
              " 0.011232364,\n",
              " 0.03244449,\n",
              " -0.039727386,\n",
              " 0.06466994,\n",
              " -0.030801728,\n",
              " 0.011013329,\n",
              " -0.019275038,\n",
              " 0.01597583,\n",
              " -0.0391798,\n",
              " -0.027488831,\n",
              " -0.06499849,\n",
              " 0.06466994,\n",
              " -0.031376693,\n",
              " 0.036962073,\n",
              " -0.01791976,\n",
              " 0.013066778,\n",
              " 0.0318969,\n",
              " 0.061274905,\n",
              " -0.019302417,\n",
              " 0.0027499099,\n",
              " 0.014825898,\n",
              " -0.019781554,\n",
              " -0.03748228,\n",
              " -0.02992559,\n",
              " 0.022259383,\n",
              " -0.00609532,\n",
              " -0.03433366,\n",
              " 0.048105456,\n",
              " -0.004452561,\n",
              " -0.010417829,\n",
              " -0.008994104,\n",
              " 0.0004068395,\n",
              " 0.03315635,\n",
              " 0.02314921,\n",
              " -0.0117662605,\n",
              " 0.003023703,\n",
              " 0.0063177766,\n",
              " 0.0041137417,\n",
              " 0.0024179358,\n",
              " -0.018836968,\n",
              " -0.018590555,\n",
              " 0.0032752503,\n",
              " 0.0058283713,\n",
              " 0.036934696,\n",
              " 0.029733935,\n",
              " 0.035730004,\n",
              " 0.03592166,\n",
              " 0.0414249,\n",
              " 0.0025377201,\n",
              " 0.030199382,\n",
              " 0.01917921,\n",
              " -0.021355866,\n",
              " 0.019822624,\n",
              " 0.004907742,\n",
              " -0.0112460535,\n",
              " -0.05349918,\n",
              " 0.009247364,\n",
              " 0.025846072,\n",
              " -0.05634663,\n",
              " 0.044053316,\n",
              " -0.05306111,\n",
              " 0.014606864,\n",
              " 0.038112003,\n",
              " 0.078688145,\n",
              " -0.047229316,\n",
              " -0.028638761,\n",
              " 0.0063348887,\n",
              " 0.059303593,\n",
              " -0.05826318,\n",
              " 0.009124156,\n",
              " 0.0047571557,\n",
              " 0.020561865,\n",
              " -0.008699777,\n",
              " -0.021615969,\n",
              " 0.0044867853,\n",
              " 0.009425329,\n",
              " -0.000761915,\n",
              " -0.009076242,\n",
              " -0.012690312,\n",
              " -0.057715595,\n",
              " -0.04199987,\n",
              " -0.06319146,\n",
              " -0.04068566,\n",
              " 0.013785484,\n",
              " -0.03069221,\n",
              " -0.011287122,\n",
              " 0.04550442,\n",
              " -0.013744416,\n",
              " 0.023915831,\n",
              " -0.019808933,\n",
              " 0.01478483,\n",
              " 0.025298486,\n",
              " -0.028666142,\n",
              " 0.035976417,\n",
              " 0.03709897,\n",
              " 0.01993214,\n",
              " -0.05191118,\n",
              " 0.03562049,\n",
              " -0.012012674,\n",
              " 0.03236235,\n",
              " -4.3020817e-05,\n",
              " -0.03583952,\n",
              " 0.018590555,\n",
              " -0.025709176,\n",
              " -0.001966177,\n",
              " -0.019398244,\n",
              " -0.012923036,\n",
              " -0.0094937775,\n",
              " -0.06078208,\n",
              " -0.010684777,\n",
              " -0.021752864,\n",
              " -0.023094451,\n",
              " 0.0021116296,\n",
              " -0.024682451,\n",
              " -0.071952835,\n",
              " 0.03707159,\n",
              " 0.042848628,\n",
              " -0.022998624,\n",
              " 0.024312831,\n",
              " 0.06143918,\n",
              " -0.029432762,\n",
              " 0.047393594,\n",
              " -0.004726354,\n",
              " 0.005469018,\n",
              " -0.043587867,\n",
              " 0.110721946,\n",
              " 0.059632145,\n",
              " 0.0070091044,\n",
              " -0.032252833,\n",
              " -0.038057245,\n",
              " -0.014387829,\n",
              " -0.00025390036,\n",
              " 0.009972915,\n",
              " -0.041808214,\n",
              " -0.017604899,\n",
              " 0.060727317,\n",
              " 0.016893037,\n",
              " -0.05859173,\n",
              " 0.010732691,\n",
              " -0.021218969,\n",
              " -0.051308833,\n",
              " -0.034580074,\n",
              " -0.020438658,\n",
              " 0.025627038,\n",
              " -0.008042674,\n",
              " 0.025722865,\n",
              " -0.033238485,\n",
              " 0.016646624,\n",
              " -0.0043327766,\n",
              " 0.04227366,\n",
              " 0.02434021,\n",
              " -0.04312242,\n",
              " 0.040822558,\n",
              " 0.039398834,\n",
              " 0.015880002,\n",
              " 0.037673935,\n",
              " 0.032033797,\n",
              " -0.030801728,\n",
              " 0.005701742,\n",
              " 0.03474435,\n",
              " 0.012218019,\n",
              " -0.0058865524,\n",
              " 0.040165454,\n",
              " -0.018330451,\n",
              " -0.011560915,\n",
              " 0.016099036,\n",
              " -0.052814696,\n",
              " 0.016222244,\n",
              " 0.05317063,\n",
              " 0.013148916,\n",
              " 0.048132833,\n",
              " -0.002091095,\n",
              " 0.011663588,\n",
              " -0.01095857,\n",
              " -0.012081122,\n",
              " -0.056456145,\n",
              " 0.028036417,\n",
              " 0.01598952,\n",
              " 0.043971177,\n",
              " -0.06324621,\n",
              " 0.017002555,\n",
              " -0.040932074,\n",
              " -0.02635259,\n",
              " 0.038988143,\n",
              " -0.047557868,\n",
              " 0.0011422307,\n",
              " 0.043998558,\n",
              " 0.013251588,\n",
              " 0.031020762,\n",
              " -0.035784762,\n",
              " 0.0123959845,\n",
              " 0.063684285,\n",
              " 0.016961485,\n",
              " 0.036551382,\n",
              " 0.020986244,\n",
              " 0.008699777,\n",
              " -0.016509727,\n",
              " -0.018836968,\n",
              " -0.04232842,\n",
              " 0.018617934,\n",
              " -0.02113683,\n",
              " 0.020000588,\n",
              " -0.03562049,\n",
              " 0.029213728,\n",
              " -0.03920718,\n",
              " 0.01749538,\n",
              " 0.024833038,\n",
              " 0.041753452,\n",
              " 0.022218313,\n",
              " -0.0065710354,\n",
              " 0.053800352,\n",
              " 0.0012791273,\n",
              " 0.027625728,\n",
              " 0.0180019,\n",
              " 0.010903812,\n",
              " 0.021369554,\n",
              " -0.01715314,\n",
              " 0.010274087,\n",
              " 0.0048016473,\n",
              " -0.020233313,\n",
              " 0.009219984,\n",
              " -0.019740485,\n",
              " 0.009302122,\n",
              " 0.014908036,\n",
              " -0.027721556,\n",
              " 0.037673935,\n",
              " -0.042109385,\n",
              " 0.0014938838,\n",
              " 0.054375317,\n",
              " 0.02995297,\n",
              " 0.028474487,\n",
              " 0.0247509,\n",
              " -0.048625663,\n",
              " 0.029295865,\n",
              " 0.02910421,\n",
              " -0.044902075,\n",
              " -0.028638761,\n",
              " -0.047694765,\n",
              " 0.012252243,\n",
              " 0.0023837115,\n",
              " -0.016057968,\n",
              " -0.046462696,\n",
              " -0.024299141,\n",
              " -0.009069398,\n",
              " -0.031294554,\n",
              " 0.046216283,\n",
              " 0.008946191,\n",
              " 0.014606864,\n",
              " 0.010712157,\n",
              " -0.03792035,\n",
              " 0.0063759577,\n",
              " -0.011834708,\n",
              " 0.0069611906,\n",
              " 0.004267751,\n",
              " -0.0010583816,\n",
              " 0.00028363257,\n",
              " 0.002784134,\n",
              " 0.043752145,\n",
              " -0.025695486,\n",
              " -0.044491384,\n",
              " 0.010719001,\n",
              " -0.044956833,\n",
              " 0.046818625,\n",
              " -0.02071245,\n",
              " -0.05549787,\n",
              " -0.0014314248,\n",
              " 0.002536009,\n",
              " 0.03156835,\n",
              " 0.027625728,\n",
              " 0.011868932,\n",
              " 0.02115052,\n",
              " -0.016085347,\n",
              " 0.03562049,\n",
              " -0.016605554,\n",
              " -0.043396212,\n",
              " 0.023683107,\n",
              " 0.0001327255,\n",
              " -0.0050754403,\n",
              " -0.00010069385,\n",
              " 0.03422414,\n",
              " 0.009870242,\n",
              " -0.04306766,\n",
              " 0.023751555,\n",
              " -0.030911246,\n",
              " 0.013320036,\n",
              " -0.0031400651,\n",
              " 0.023806313,\n",
              " -0.0030853064,\n",
              " -0.020014279,\n",
              " 0.030610073,\n",
              " -0.06466994,\n",
              " 0.00497619,\n",
              " -0.009514311,\n",
              " -0.0127792945,\n",
              " -0.015921071,\n",
              " -0.033101592,\n",
              " -0.010547881,\n",
              " -0.0006943223,\n",
              " -0.030172003,\n",
              " 0.023067072,\n",
              " 0.0040452937,\n",
              " -0.00657788,\n",
              " -0.003990535,\n",
              " -0.036743037,\n",
              " -0.008097432,\n",
              " -0.015222899,\n",
              " -0.02149276,\n",
              " -0.013806019,\n",
              " 0.061603457,\n",
              " 0.029158968,\n",
              " 0.07786677,\n",
              " -0.021876073,\n",
              " -0.04306766,\n",
              " 0.00083121884,\n",
              " -0.024121176,\n",
              " -0.028693521,\n",
              " -0.04104159,\n",
              " 0.020123797,\n",
              " -0.039727386,\n",
              " -0.02153383,\n",
              " -0.011027019,\n",
              " -0.0033505436,\n",
              " -0.036277592,\n",
              " 0.015428243,\n",
              " -0.03715373,\n",
              " 0.029843451,\n",
              " -0.006601837,\n",
              " -0.020192243,\n",
              " -0.04032973,\n",
              " 0.016208554,\n",
              " 0.013162605,\n",
              " -0.06861256,\n",
              " -0.015921071,\n",
              " 0.018152485,\n",
              " -0.029761314,\n",
              " 0.04547704,\n",
              " 0.07091242,\n",
              " -0.020561865,\n",
              " -0.0024607158,\n",
              " -0.05544311,\n",
              " 0.038166765,\n",
              " -0.0065676128,\n",
              " -0.05870125,\n",
              " -0.06970774,\n",
              " -0.020685071,\n",
              " -0.012046898,\n",
              " 0.06707932,\n",
              " 0.04350573,\n",
              " -0.04673649,\n",
              " -0.022368899,\n",
              " -0.030062487,\n",
              " 0.010356225,\n",
              " -0.024162244,\n",
              " -0.036879934,\n",
              " -0.01718052,\n",
              " 0.06510801,\n",
              " 0.01874114,\n",
              " 0.058153663,\n",
              " -0.006290397,\n",
              " -0.04471042,\n",
              " -0.017673347,\n",
              " 0.013812864,\n",
              " 0.031239796,\n",
              " 0.037044212,\n",
              " -0.0287209,\n",
              " -0.048214972,\n",
              " 0.015797865,\n",
              " -0.014593175,\n",
              " 0.007707277,\n",
              " 0.03343014,\n",
              " -0.032033797,\n",
              " 0.022204624,\n",
              " -0.031376693,\n",
              " -0.012450743,\n",
              " -0.050870765,\n",
              " 0.016441278,\n",
              " -0.011266587,\n",
              " -0.0020448924,\n",
              " 0.0422189,\n",
              " -0.029378004,\n",
              " 0.030199382,\n",
              " 0.011643053,\n",
              " 0.03115766,\n",
              " 0.0033488323,\n",
              " -0.029761314,\n",
              " -0.061220147,\n",
              " -0.00979495,\n",
              " -0.05547049,\n",
              " -0.02592821,\n",
              " 0.03551097,\n",
              " -0.03630497,\n",
              " -0.015003864,\n",
              " -0.009521157,\n",
              " -0.0059686904,\n",
              " 0.028666142,\n",
              " -0.024175934,\n",
              " 0.027598348,\n",
              " 0.084109254,\n",
              " -0.003453216,\n",
              " -0.019672036,\n",
              " -0.02789952,\n",
              " 0.040521383,\n",
              " 0.009254208,\n",
              " -0.014223553,\n",
              " 0.010582105,\n",
              " -0.027310865,\n",
              " 0.026475796,\n",
              " -0.009459553,\n",
              " -0.022574244,\n",
              " -0.051883798,\n",
              " -0.016016899,\n",
              " -0.022806969,\n",
              " 0.048789937,\n",
              " -0.014141415,\n",
              " 0.051308833,\n",
              " 0.020247003,\n",
              " -0.024997314,\n",
              " -0.017632278,\n",
              " -0.003891285,\n",
              " 0.017016243,\n",
              " -0.03353966,\n",
              " 0.044053316,\n",
              " 0.023683107,\n",
              " 0.029268486,\n",
              " 0.052431386,\n",
              " -0.04911849,\n",
              " 0.014853278,\n",
              " -0.008822984,\n",
              " 0.062534355,\n",
              " -0.0247509,\n",
              " -0.031294554,\n",
              " 0.022957554,\n",
              " 0.065600835,\n",
              " -0.026913866,\n",
              " -0.040603522,\n",
              " -0.0118483985,\n",
              " -0.020137485,\n",
              " -0.0010891834,\n",
              " -0.00497619,\n",
              " -0.026927555,\n",
              " 0.0013689657,\n",
              " -0.018303072,\n",
              " -0.0028063797,\n",
              " -0.011670433,\n",
              " 0.02553121,\n",
              " 0.015715726,\n",
              " 0.030445797,\n",
              " 0.027228728,\n",
              " -0.047065042,\n",
              " 0.052814696,\n",
              " 0.04306766,\n",
              " -0.022108795,\n",
              " -0.01475745,\n",
              " -0.03392297,\n",
              " -0.008289088,\n",
              " -0.0061261216,\n",
              " -0.0073171216,\n",
              " 0.031760003,\n",
              " -0.026845418,\n",
              " 0.027379313,\n",
              " 0.050952904,\n",
              " 0.0026472374,\n",
              " 0.00795369,\n",
              " 0.0076046046,\n",
              " 0.033320624,\n",
              " 0.02273852,\n",
              " -0.053033732,\n",
              " -0.05265042,\n",
              " -0.01436045,\n",
              " 0.07069339,\n",
              " -0.01952145,\n",
              " 0.06335573,\n",
              " -0.008665553,\n",
              " -0.0016607265,\n",
              " 0.03436104,\n",
              " 0.019726796,\n",
              " -0.0034224142,\n",
              " -0.043806903,\n",
              " -0.014333071,\n",
              " -0.05672994,\n",
              " -0.024011659,\n",
              " -0.055141937,\n",
              " 0.0350729,\n",
              " -0.01553776,\n",
              " 0.032225452,\n",
              " -0.008371226,\n",
              " -0.028857797,\n",
              " 0.005000147,\n",
              " 0.03835842,\n",
              " 0.016660312,\n",
              " 0.004873518,\n",
              " -0.020301761,\n",
              " -0.010020829,\n",
              " -0.042629592,\n",
              " -0.040165454,\n",
              " -0.002479539,\n",
              " -0.00379888,\n",
              " 0.0074882424,\n",
              " 0.0030117244,\n",
              " 0.048926834,\n",
              " -0.007269208,\n",
              " -0.020821968,\n",
              " 0.0030972848,\n",
              " -0.01257395,\n",
              " 0.025818693,\n",
              " 0.0023700218,\n",
              " -0.025339555,\n",
              " -0.037701316,\n",
              " 0.03523718,\n",
              " -0.00737188,\n",
              " 0.02231414,\n",
              " -0.004373845,\n",
              " -0.056072835,\n",
              " -0.023217658,\n",
              " -0.0016085347,\n",
              " -0.025339555,\n",
              " -0.0134637775,\n",
              " -0.037810832,\n",
              " 0.016906727,\n",
              " 0.055689525,\n",
              " -0.017892381,\n",
              " -0.045285385,\n",
              " 0.03592166,\n",
              " -0.039672624,\n",
              " -0.0025069185,\n",
              " -0.018097727,\n",
              " 0.009350035,\n",
              " -0.006139811,\n",
              " 0.032800417,\n",
              " 0.027256107,\n",
              " 0.052814696,\n",
              " 0.011704656,\n",
              " 0.023327176,\n",
              " -0.021438003,\n",
              " -0.020671383,\n",
              " 0.022245692,\n",
              " -0.03359442,\n",
              " -0.0017710994,\n",
              " -0.017207898,\n",
              " 0.004072673,\n",
              " -0.054128904,\n",
              " 0.0583727,\n",
              " 0.036962073,\n",
              " -0.036606144,\n",
              " -0.007912622,\n",
              " -0.055771664,\n",
              " -0.0027772891,\n",
              " -0.03874173,\n",
              " 0.011232364,\n",
              " -0.0026985735,\n",
              " 0.020219624,\n",
              " -0.023258727,\n",
              " -0.013237898,\n",
              " -0.01633176,\n",
              " -0.0137375705,\n",
              " -0.042109385,\n",
              " 0.0057188543,\n",
              " -0.10015353,\n",
              " -0.026489487,\n",
              " 0.08367118,\n",
              " -0.019494072,\n",
              " 0.0063075093,\n",
              " -0.0126697775,\n",
              " -0.07874291,\n",
              " 0.030637452,\n",
              " 0.009274743,\n",
              " -0.0015392308,\n",
              " 0.002248526,\n",
              " 0.03510028,\n",
              " -0.008261708,\n",
              " 0.044765178,\n",
              " -0.062479593,\n",
              " -0.009596449,\n",
              " -0.037619177,\n",
              " 0.039453592,\n",
              " -0.042793866,\n",
              " -0.05859173,\n",
              " 0.024559245,\n",
              " 0.03304683,\n",
              " 0.009137846,\n",
              " 0.025476452,\n",
              " -0.031376693,\n",
              " 0.00469213,\n",
              " 0.018659003,\n",
              " 0.010719001,\n",
              " -0.014415209,\n",
              " 0.012416519,\n",
              " -0.03980952,\n",
              " 0.014237244,\n",
              " 0.0066223717,\n",
              " -0.010034518,\n",
              " -0.03460745,\n",
              " 0.043670006,\n",
              " 0.035730004,\n",
              " 0.0026472374,\n",
              " -0.012327536,\n",
              " 0.045367524,\n",
              " 0.008768225,\n",
              " -0.018275691,\n",
              " 0.0055922247,\n",
              " 0.02716028,\n",
              " 0.052376628,\n",
              " 0.01436045,\n",
              " -0.027666796,\n",
              " -0.014223553,\n",
              " 0.03802987,\n",
              " 0.019795245,\n",
              " 0.0027944013,\n",
              " 0.017426934,\n",
              " 0.051610008,\n",
              " 0.023847383,\n",
              " -0.035976417,\n",
              " -0.0039118193,\n",
              " 0.042492695,\n",
              " -0.0014981618,\n",
              " -0.03709897,\n",
              " 0.048461385,\n",
              " -0.058427457,\n",
              " -0.0007803104,\n",
              " 0.008556035,\n",
              " 0.000908651,\n",
              " -0.03980952,\n",
              " 0.0021629657,\n",
              " -0.0136554325,\n",
              " -0.03792035,\n",
              " 0.012443898,\n",
              " 0.042848628,\n",
              " -0.020589244,\n",
              " -0.049200628,\n",
              " 0.0027071296,\n",
              " 0.024189623,\n",
              " 0.040110696,\n",
              " 0.03113028,\n",
              " 0.007837329,\n",
              " 0.008994104,\n",
              " 0.06998152,\n",
              " 0.026215693,\n",
              " -0.011184449,\n",
              " 0.046052005,\n",
              " -0.0050925524,\n",
              " 0.038166765,\n",
              " -0.027447762,\n",
              " 0.006016604,\n",
              " -0.026640072,\n",
              " -0.023245037,\n",
              " -0.00558538,\n",
              " 0.0011482199,\n",
              " -0.010055053,\n",
              " 0.018645313,\n",
              " -0.0039871125,\n",
              " -0.01915183,\n",
              " 0.003239315,\n",
              " -0.004469673,\n",
              " -0.06149394,\n",
              " -0.04555918,\n",
              " 0.012656088,\n",
              " -0.034881245,\n",
              " -0.03991904,\n",
              " 0.07666208,\n",
              " -0.035730004,\n",
              " 0.012320692,\n",
              " 0.067353114,\n",
              " -0.01715314,\n",
              " 0.042876005,\n",
              " 0.05059697,\n",
              " 0.020055348,\n",
              " 0.0039220867,\n",
              " 0.089092284,\n",
              " 0.052102834,\n",
              " -0.0065710354,\n",
              " 0.00034801674,\n",
              " -0.0035387764,\n",
              " 0.0014160239,\n",
              " -0.004609992,\n",
              " 0.008884587,\n",
              " -0.038550075,\n",
              " -0.013874467,\n",
              " -0.029268486,\n",
              " -0.037044212,\n",
              " -0.037728693,\n",
              " -0.013833398,\n",
              " -0.01638652,\n",
              " -0.052157592,\n",
              " 0.03359442,\n",
              " 0.027598348,\n",
              " -0.05470387,\n",
              " 0.010219329,\n",
              " 0.053827733,\n",
              " 0.04189035,\n",
              " -0.026379969,\n",
              " -0.025366934,\n",
              " -0.007501932,\n",
              " -0.009589605,\n",
              " -0.020069037,\n",
              " -0.06269863,\n",
              " 0.03986428,\n",
              " -0.028310211,\n",
              " -0.020260692,\n",
              " -0.04941966,\n",
              " -0.018905416,\n",
              " -0.0034309702,\n",
              " 0.010677933,\n",
              " -0.038604833,\n",
              " 0.025750244,\n",
              " 0.01874114,\n",
              " 0.050569594,\n",
              " 0.030966004,\n",
              " 0.0070296386,\n",
              " -0.03271828,\n",
              " 0.0062356386,\n",
              " 0.012710846,\n",
              " 0.045422282,\n",
              " 0.019097071,\n",
              " 0.04550442,\n",
              " 0.05946787,\n",
              " -0.00698857,\n",
              " -0.0126150185,\n",
              " -0.015236588,\n",
              " 0.042492695,\n",
              " -0.014319381,\n",
              " 0.008925657,\n",
              " -0.0060268715,\n",
              " 0.032937314,\n",
              " -0.019754175,\n",
              " -0.04191773,\n",
              " 0.039015524,\n",
              " 0.01638652,\n",
              " -0.01716683,\n",
              " -0.0390429,\n",
              " -0.044929456,\n",
              " -0.009842863,\n",
              " -0.0076935873,\n",
              " 0.009603295,\n",
              " -0.0029518323,\n",
              " 0.045641318,\n",
              " 0.01755014,\n",
              " -0.036277592,\n",
              " -0.030172003,\n",
              " -0.029816072,\n",
              " 0.19395506,\n",
              " 0.024545554,\n",
              " 0.056510903,\n",
              " 0.010301467,\n",
              " 0.06078208,\n",
              " 0.044025935,\n",
              " 0.04547704,\n",
              " 0.021944521,\n",
              " 0.022451038,\n",
              " -0.02833759,\n",
              " 0.019644657,\n",
              " -0.008925657,\n",
              " 0.027365625,\n",
              " -0.008918812,\n",
              " 0.017481692,\n",
              " 0.048324488,\n",
              " -0.014415209,\n",
              " 0.011499312,\n",
              " 0.021711797,\n",
              " -0.04230104,\n",
              " -0.027023382,\n",
              " -0.00064426946,\n",
              " 0.04512111,\n",
              " 0.0039939573,\n",
              " 0.037208486,\n",
              " 0.017016243,\n",
              " 0.014647933,\n",
              " -0.005948156,\n",
              " 0.0034087247,\n",
              " -0.014155106,\n",
              " 0.007659363,\n",
              " -0.032006416,\n",
              " 0.040247593,\n",
              " -0.00738557,\n",
              " -0.020835659,\n",
              " 0.030062487,\n",
              " 0.011047553,\n",
              " -0.039234556,\n",
              " -0.0007178514,\n",
              " -0.04109635,\n",
              " 0.0002376439,\n",
              " -0.039371453,\n",
              " 0.019507762,\n",
              " -0.0013604097,\n",
              " -0.0048427163,\n",
              " 0.04071304,\n",
              " -0.01298464,\n",
              " -0.00021614684,\n",
              " 0.022560555,\n",
              " -0.032143313,\n",
              " 0.007618294,\n",
              " -0.06193201,\n",
              " 0.052075457,\n",
              " -0.0123412255,\n",
              " -0.024545554,\n",
              " -0.025380624,\n",
              " -0.011725191,\n",
              " -0.05897504,\n",
              " 0.011540381,\n",
              " -0.017892381,\n",
              " 0.006642906,\n",
              " 0.034142006,\n",
              " -0.005575113,\n",
              " -0.007515622,\n",
              " -0.040521383,\n",
              " -0.007844173,\n",
              " 0.020055348,\n",
              " 0.03277304,\n",
              " -0.009418484,\n",
              " -0.0025993236,\n",
              " -0.045641318,\n",
              " ...]"
            ]
          },
          "execution_count": 10,
          "metadata": {},
          "output_type": "execute_result"
        }
      ],
      "source": [
        "embeddings_model.embed_query(\"Hello, welcome to HF Endpoint Embeddings\")"
      ]
    },
    {
      "cell_type": "code",
      "execution_count": 11,
      "metadata": {},
      "outputs": [
        {
          "data": {
            "text/plain": [
              "1024"
            ]
          },
          "execution_count": 11,
          "metadata": {},
          "output_type": "execute_result"
        }
      ],
      "source": [
        "output = embeddings_model.embed_query(\"Hello, welcome to HF Endpoint Embeddings\")\n",
        "len(output)"
      ]
    },
    {
      "cell_type": "markdown",
      "metadata": {
        "id": "EtbNzDF-e7JI"
      },
      "source": [
        "#### ❓ Question #1\n",
        "\n",
        "What is the embedding dimension of your selected embeddings model?\n",
        "\n",
        "1024"
      ]
    },
    {
      "cell_type": "markdown",
      "metadata": {
        "id": "P9pLgHfR3uY9"
      },
      "source": [
        "## Task 6: Retrieving data from Arxiv\n",
        "\n",
        "We'll leverage the `ArxivLoader` to load some papers about the \"QLoRA\" topic, and then split them into more manageable chunks!"
      ]
    },
    {
      "cell_type": "code",
      "execution_count": 33,
      "metadata": {
        "id": "7yO05R6mtyCB"
      },
      "outputs": [],
      "source": [
        "from langchain.document_loaders import ArxivLoader\n",
        "\n",
        "# docs = ArxivLoader(query=\"QLoRA\", load_max_docs=5).load()\n",
        "docs = ArxivLoader(query=\"2305.14314\", load_max_docs=5).load()"
      ]
    },
    {
      "cell_type": "code",
      "execution_count": 34,
      "metadata": {
        "id": "4F249yWeuCKd"
      },
      "outputs": [],
      "source": [
        "from langchain.text_splitter import RecursiveCharacterTextSplitter\n",
        "\n",
        "text_splitter = RecursiveCharacterTextSplitter(\n",
        "    chunk_size = 500,\n",
        "    chunk_overlap = 0,\n",
        "    length_function = len,\n",
        ")\n",
        "\n",
        "split_chunks = text_splitter.split_documents(docs)"
      ]
    },
    {
      "cell_type": "code",
      "execution_count": 35,
      "metadata": {
        "colab": {
          "base_uri": "https://localhost:8080/"
        },
        "id": "d9BO1Y1Xur0e",
        "outputId": "91d53d2c-bae2-477e-98c1-ac399438bc84"
      },
      "outputs": [
        {
          "data": {
            "text/plain": [
              "191"
            ]
          },
          "execution_count": 35,
          "metadata": {},
          "output_type": "execute_result"
        }
      ],
      "source": [
        "len(split_chunks)"
      ]
    },
    {
      "cell_type": "markdown",
      "metadata": {
        "id": "3sZBBjdM4Or8"
      },
      "source": [
        "Just the same as we would with OpenAI's embeddings model - we can instantiate our `FAISS` vector store with our documents and our `HuggingFaceEmbeddings` model!\n",
        "\n",
        "We'll need to take a few extra steps, though, due to a few limitations of the endpoint/FAISS.\n",
        "\n",
        "We'll start by embeddings our documents in batches of `32`."
      ]
    },
    {
      "cell_type": "code",
      "execution_count": 15,
      "metadata": {
        "id": "FBCTm-JZ0mVr"
      },
      "outputs": [],
      "source": [
        "embeddings = []\n",
        "for i in range(0, len(split_chunks) - 1, 32):\n",
        "  embeddings.append(embeddings_model.embed_documents([document.page_content for document in split_chunks[i:i+32]]))"
      ]
    },
    {
      "cell_type": "code",
      "execution_count": 16,
      "metadata": {
        "id": "4wLY8FDGNDym"
      },
      "outputs": [],
      "source": [
        "embeddings = [item for sub_list in embeddings for item in sub_list]"
      ]
    },
    {
      "cell_type": "markdown",
      "metadata": {
        "id": "Xgc_e-9QHJTm"
      },
      "source": [
        "#### ❓ Question #2\n",
        "\n",
        "Why do we have to limit our batches when sending to the Hugging Face endpoints?\n",
        "\n",
        "* Because Hugging Face Rate Limits our Requests"
      ]
    },
    {
      "cell_type": "markdown",
      "metadata": {
        "id": "xn4lECg2TTza"
      },
      "source": [
        "Now we can create text/embedding pairs which we want use to set-up our FAISS VectorStore!"
      ]
    },
    {
      "cell_type": "code",
      "execution_count": 17,
      "metadata": {
        "id": "6C1bw7srOVJX"
      },
      "outputs": [],
      "source": [
        "from langchain.vectorstores import FAISS\n",
        "\n",
        "text_embedding_pairs = list(zip([document.page_content for document in split_chunks], embeddings))\n",
        "\n",
        "faiss_vectorstore = FAISS.from_embeddings(text_embedding_pairs, embeddings_model)"
      ]
    },
    {
      "cell_type": "markdown",
      "metadata": {
        "id": "NXbexmFSTZKF"
      },
      "source": [
        "Next, we set up FAISS as a retriever."
      ]
    },
    {
      "cell_type": "code",
      "execution_count": 40,
      "metadata": {
        "id": "BSUZYfvAPxTF"
      },
      "outputs": [],
      "source": [
        "faiss_retriever = faiss_vectorstore.as_retriever(search_kwargs={\"k\" : 2})"
      ]
    },
    {
      "cell_type": "markdown",
      "metadata": {
        "id": "ce1ZWj8aTchK"
      },
      "source": [
        "Let's test it out!"
      ]
    },
    {
      "cell_type": "code",
      "execution_count": 41,
      "metadata": {
        "colab": {
          "base_uri": "https://localhost:8080/"
        },
        "id": "0DwHoaIDQQ9E",
        "outputId": "e5b4adeb-ff47-40c9-cb7e-9f8a7e792bb7"
      },
      "outputs": [
        {
          "data": {
            "text/plain": [
              "[Document(page_content='To summarize, QLORA has one storage data type (usually 4-bit NormalFloat) and a computation\\ndata type (16-bit BrainFloat). We dequantize the storage data type to the computation data type\\nto perform the forward and backward pass, but we only compute weight gradients for the LoRA\\nparameters which use 16-bit BrainFloat.\\n4\\nQLoRA vs. Standard Finetuning\\nWe have discussed how QLoRA works and how it can significantly reduce the required memory for'),\n",
              " Document(page_content='established evaluation setups. We have also shown that NF4 is more effective than FP4 and that\\ndouble quantization does not degrade performance. Combined, this forms compelling evidence that\\n4-bit QLORA tuning reliably yields results matching 16-bit methods.\\nIn line with previous work on quantization [13], our MMLU and Elo results indicate that with a given\\nfinetuning and inference resource budget it is beneficial to increase the number of parameters in the')]"
            ]
          },
          "execution_count": 41,
          "metadata": {},
          "output_type": "execute_result"
        }
      ],
      "source": [
        "faiss_retriever.get_relevant_documents(\"What optimizer does QLoRA use?\")"
      ]
    },
    {
      "cell_type": "markdown",
      "metadata": {
        "id": "Xm0IjkpFSdmw"
      },
      "source": [
        "### Prompt Template\n",
        "\n",
        "Now that we have our LLM and our Retiever set-up, let's connect them with our Prompt Template!"
      ]
    },
    {
      "cell_type": "code",
      "execution_count": 20,
      "metadata": {
        "id": "Gqpayd-kTyiq"
      },
      "outputs": [],
      "source": [
        "from langchain.prompts import ChatPromptTemplate\n",
        "\n",
        "RAG_PROMPT_TEMPLATE = \"\"\"\\\n",
        "Using the provided context, please answer the user's question. If you don't know, say you don't know.\n",
        "\n",
        "Context:\n",
        "{context}\n",
        "\n",
        "Question:\n",
        "{question}\n",
        "\"\"\"\n",
        "\n",
        "rag_prompt = ChatPromptTemplate.from_template(RAG_PROMPT_TEMPLATE)"
      ]
    },
    {
      "cell_type": "markdown",
      "metadata": {
        "id": "NikHqHljIIdK"
      },
      "source": [
        "#### ❓ Question #3\n",
        "\n",
        "Does the ordering of the prompt matter?\n",
        "\n",
        "Some research indicates recency bias in prompts (i.e. later information in the prompt will be weighted more heavily that earlier information). Therefore, order does matter.\n",
        "\n"
      ]
    },
    {
      "cell_type": "markdown",
      "metadata": {
        "id": "Gwy1YOy34aXf"
      },
      "source": [
        "## Task 7: Creating a simple RAG pipeline with LangChain v0.1.0\n",
        "\n",
        "All that's left to do is set up a RAG chain - and away we go!"
      ]
    },
    {
      "cell_type": "code",
      "execution_count": 21,
      "metadata": {
        "id": "i0q8CUu809M-"
      },
      "outputs": [],
      "source": [
        "from operator import itemgetter\n",
        "from langchain_core.runnables import RunnablePassthrough, RunnableParallel\n",
        "from langchain.schema import StrOutputParser\n",
        "\n",
        "retrieval_augmented_qa_chain = (\n",
        "    {\n",
        "        \"context\": itemgetter(\"question\") | faiss_retriever,\n",
        "        \"question\": itemgetter(\"question\"),\n",
        "    }\n",
        "    | rag_prompt\n",
        "    | hf_llm\n",
        "    | StrOutputParser()\n",
        ")"
      ]
    },
    {
      "cell_type": "markdown",
      "metadata": {
        "id": "sHyy5p484iUD"
      },
      "source": [
        "Let's test it out!"
      ]
    },
    {
      "cell_type": "code",
      "execution_count": 22,
      "metadata": {
        "colab": {
          "base_uri": "https://localhost:8080/",
          "height": 53
        },
        "id": "OezUhZGrUr63",
        "outputId": "27e7b28a-a840-421c-bab7-95d29b9c243f"
      },
      "outputs": [
        {
          "data": {
            "text/plain": [
              "'\\nAnswer:\\nQLORA is a method for fine-tuning large language models (LLMs) that makes the process much more widely and easily accessible, particularly for researchers and teams with limited resources. It was designed to help close the resource gap between large corporations and small teams with consumer GPUs, and could potentially enable the finetuning of LLMs on mobile phones and other low-resource devices.'"
            ]
          },
          "execution_count": 22,
          "metadata": {},
          "output_type": "execute_result"
        }
      ],
      "source": [
        "retrieval_augmented_qa_chain.invoke({\"question\" : \"What is QLoRA?\"})"
      ]
    },
    {
      "cell_type": "markdown",
      "metadata": {
        "id": "LGsV8x_ZIWZ9"
      },
      "source": [
        "# 🤝 Breakout Room #2"
      ]
    },
    {
      "cell_type": "markdown",
      "metadata": {
        "id": "YrKQSs_r4gl8"
      },
      "source": [
        "## Task 1: Set-up LangSmith\n",
        "\n",
        "We'll be moving through this notebook to explain what visibility tools can do to help us!\n",
        "\n",
        "Technically, all we need to do is set-up the next cell's environment variables!"
      ]
    },
    {
      "cell_type": "code",
      "execution_count": 42,
      "metadata": {
        "colab": {
          "base_uri": "https://localhost:8080/"
        },
        "id": "1S5X3EE847PO",
        "outputId": "13ce411f-2756-4815-93c0-2dd15b2de778"
      },
      "outputs": [],
      "source": [
        "from uuid import uuid4\n",
        "\n",
        "unique_id = uuid4().hex[0:8]\n",
        "\n",
        "os.environ[\"LANGCHAIN_TRACING_V2\"] = \"true\"\n",
        "os.environ[\"LANGCHAIN_PROJECT\"] = f\"AIE1 - {unique_id}\"\n",
        "os.environ[\"LANGCHAIN_ENDPOINT\"] = \"https://api.smith.langchain.com\""
      ]
    },
    {
      "cell_type": "markdown",
      "metadata": {
        "id": "ou1fLN-MJGfu"
      },
      "source": [
        "Let's see what happens on the LangSmith project when we run this chain now!"
      ]
    },
    {
      "cell_type": "code",
      "execution_count": 24,
      "metadata": {
        "colab": {
          "base_uri": "https://localhost:8080/",
          "height": 53
        },
        "id": "1Yr8j5hqJGET",
        "outputId": "6d34a358-2587-4510-b4bc-ddbc6dcd9b3b"
      },
      "outputs": [
        {
          "data": {
            "text/plain": [
              "'\\nAnswer:\\nQLORA is a method for fine-tuning large language models (LLMs) that makes the process much more widely and easily accessible. It was designed to address the issue of LLMs being held by large corporations that do not release models or source code for auditing, making it difficult for smaller teams and researchers to access and use these models. QLORA aims to close the resource gap between large corporations and small teams with consumer GPUs, and potentially enable the finetuning of LLMs on mobile phones.'"
            ]
          },
          "execution_count": 24,
          "metadata": {},
          "output_type": "execute_result"
        },
        {
          "name": "stderr",
          "output_type": "stream",
          "text": [
            "Failed to batch ingest runs: TypeError('sequence item 0: expected str instance, ReadTimeoutError found')\n"
          ]
        }
      ],
      "source": [
        "retrieval_augmented_qa_chain.invoke({\"question\" : \"What is QLoRA?\"})"
      ]
    },
    {
      "cell_type": "markdown",
      "metadata": {
        "id": "zmaxEfcWJWXc"
      },
      "source": [
        "We get *all of this information* for \"free\":\n",
        "\n",
        "![image](https://i.imgur.com/8Wcpmcj.png)\n",
        "\n",
        "> NOTE: We'll walk through this diagram in detail in class."
      ]
    },
    {
      "cell_type": "markdown",
      "metadata": {
        "id": "JsFaAg1TJ8JE"
      },
      "source": [
        "####🏗️ Activity #1:\n",
        "\n",
        "Please describe the trace of the previous request and answer these questions:\n",
        "\n",
        "1. How many tokens did the request use? 344 Tokens\n",
        "2. How long did the `HuggingFaceEndpoint` take to complete? 7.89 seconds"
      ]
    },
    {
      "cell_type": "markdown",
      "metadata": {
        "id": "0XdbE0m3JgJp"
      },
      "source": [
        "## Task 2: Creating a LangSmith dataset\n",
        "\n",
        "Now that we've got LangSmith set-up - let's explore how we can create a dataset!\n",
        "\n",
        "First, we'll create a list of questions!"
      ]
    },
    {
      "cell_type": "code",
      "execution_count": 25,
      "metadata": {
        "id": "-KVSO6Eh5DpC"
      },
      "outputs": [],
      "source": [
        "from langsmith import Client\n",
        "\n",
        "questions = [\n",
        "    \"What optimizer is used in QLoRA?\",\n",
        "    \"What data type was created in the QLoRA paper?\",\n",
        "    \"What is a Retrieval Augmented Generation system?\",\n",
        "    \"Who authored the QLoRA paper?\",\n",
        "    \"What is the most popular deep learning framework?\",\n",
        "    \"What significant improvements does the LoRA system make?\"\n",
        "]"
      ]
    },
    {
      "cell_type": "markdown",
      "metadata": {
        "id": "urLbc0B8K6QZ"
      },
      "source": [
        "Now we can create our dataset through the LangSmith `Client()`."
      ]
    },
    {
      "cell_type": "code",
      "execution_count": 26,
      "metadata": {
        "id": "NUH0m7AuKyn7"
      },
      "outputs": [],
      "source": [
        "client = Client()\n",
        "dataset_name = \"QLoRA RAG Dataset\"\n",
        "\n",
        "dataset = client.create_dataset(\n",
        "    dataset_name=dataset_name,\n",
        "    description=\"Questions about the QLoRA Paper to Evaluate RAG over the same paper.\"\n",
        ")\n",
        "\n",
        "client.create_examples(\n",
        "    inputs=[{\"question\" : q} for q in questions],\n",
        "    dataset_id=dataset.id\n",
        ")"
      ]
    },
    {
      "cell_type": "markdown",
      "metadata": {
        "id": "2jxaByg9LFfX"
      },
      "source": [
        "After this step you should be able to navigate to the following dataset in the LangSmith web UI.\n",
        "\n",
        "![image](https://i.imgur.com/CdFYGTB.png)"
      ]
    },
    {
      "cell_type": "markdown",
      "metadata": {
        "id": "MbVQaJi3LsdU"
      },
      "source": [
        "## Task 3: Creating a custom evaluator\n",
        "\n",
        "Now that we have a dataset - we can start thinking about evaluation.\n",
        "\n",
        "We're going to make a `StringEvaluator` to measure \"dopeness\".\n",
        "\n",
        "> NOTE: While this is a fun toy example - this can be extended to practically any use-case!"
      ]
    },
    {
      "cell_type": "code",
      "execution_count": 27,
      "metadata": {
        "id": "qofRv8FI7TeZ"
      },
      "outputs": [],
      "source": [
        "import re\n",
        "from typing import Any, Optional\n",
        "from langchain_openai import ChatOpenAI\n",
        "from langchain_core.prompts import PromptTemplate\n",
        "from langchain.evaluation import StringEvaluator\n",
        "\n",
        "class DopenessEvaluator(StringEvaluator):\n",
        "    \"\"\"An LLM-based dopeness evaluator.\"\"\"\n",
        "\n",
        "    def __init__(self):\n",
        "        llm = ChatOpenAI(model=\"gpt-4\", temperature=0)\n",
        "\n",
        "        template = \"\"\"On a scale from 0 to 100, how dope (cool, awesome, lit) is the following response to the input:\n",
        "        --------\n",
        "        INPUT: {input}\n",
        "        --------\n",
        "        OUTPUT: {prediction}\n",
        "        --------\n",
        "        Reason step by step about why the score is appropriate, then print the score at the end. At the end, repeat that score alone on a new line.\"\"\"\n",
        "\n",
        "        self.eval_chain = PromptTemplate.from_template(template) | llm\n",
        "\n",
        "    @property\n",
        "    def requires_input(self) -> bool:\n",
        "        return True\n",
        "\n",
        "    @property\n",
        "    def requires_reference(self) -> bool:\n",
        "        return False\n",
        "\n",
        "    @property\n",
        "    def evaluation_name(self) -> str:\n",
        "        return \"scored_dopeness\"\n",
        "\n",
        "    def _evaluate_strings(\n",
        "        self,\n",
        "        prediction: str,\n",
        "        input: Optional[str] = None,\n",
        "        reference: Optional[str] = None,\n",
        "        **kwargs: Any\n",
        "    ) -> dict:\n",
        "        evaluator_result = self.eval_chain.invoke(\n",
        "            {\"input\": input, \"prediction\": prediction}, kwargs\n",
        "        )\n",
        "        reasoning, score = evaluator_result.content.split(\"\\n\", maxsplit=1)\n",
        "        score = re.search(r\"\\d+\", score).group(0)\n",
        "        if score is not None:\n",
        "            score = float(score.strip()) / 100.0\n",
        "        return {\"score\": score, \"reasoning\": reasoning.strip()}"
      ]
    },
    {
      "cell_type": "markdown",
      "metadata": {
        "id": "-PoETszTMSNW"
      },
      "source": [
        "## Task 4: Initializing our evaluator config\n",
        "\n",
        "Now we can initialize our `RunEvalConfig` which we can use to evaluate our chain against our dataset.\n",
        "\n",
        "> NOTE: Check out the [documentation](https://docs.smith.langchain.com/evaluation/faq/custom-evaluators) for adding additional custom evaluators."
      ]
    },
    {
      "cell_type": "code",
      "execution_count": 28,
      "metadata": {
        "id": "pc0bedbe-S2z"
      },
      "outputs": [],
      "source": [
        "from langchain.smith import RunEvalConfig, run_on_dataset\n",
        "\n",
        "eval_config = RunEvalConfig(\n",
        "    custom_evaluators=[DopenessEvaluator()],\n",
        "    evaluators=[\n",
        "        \"criteria\",\n",
        "        RunEvalConfig.Criteria(\"harmfulness\"),\n",
        "        RunEvalConfig.Criteria(\n",
        "            {\n",
        "                \"AI\": \"Does the response feel AI generated?\"\n",
        "                \"Response Y if they do, and N if they don't.\"\n",
        "            }\n",
        "        ),\n",
        "    ],\n",
        ")"
      ]
    },
    {
      "cell_type": "markdown",
      "metadata": {
        "id": "8XalvsOjMvdK"
      },
      "source": [
        "## Task 5: Evaluating our RAG pipeline\n",
        "\n",
        "All that's left to do now is evaluate our pipeline!"
      ]
    },
    {
      "cell_type": "code",
      "execution_count": 29,
      "metadata": {
        "colab": {
          "base_uri": "https://localhost:8080/"
        },
        "id": "6syFWlaF-olk",
        "outputId": "14ff5de8-0a5e-4425-908d-e03e3da8aa0c"
      },
      "outputs": [
        {
          "name": "stdout",
          "output_type": "stream",
          "text": [
            "View the evaluation results for project 'HF RAG Pipeline - Evaluation - v3' at:\n",
            "https://smith.langchain.com/o/bd2378ed-c53f-5d80-bbfb-3bde6b0735e6/datasets/d1379b4a-25ba-473b-99f2-2b4b67ada776/compare?selectedSessions=1e85ee12-16e2-41ba-a4e4-c36451225764\n",
            "\n",
            "View all tests for Dataset QLoRA RAG Dataset at:\n",
            "https://smith.langchain.com/o/bd2378ed-c53f-5d80-bbfb-3bde6b0735e6/datasets/d1379b4a-25ba-473b-99f2-2b4b67ada776\n",
            "[------------------------------------------------->] 6/6"
          ]
        },
        {
          "data": {
            "text/plain": [
              "{'project_name': 'HF RAG Pipeline - Evaluation - v3',\n",
              " 'results': {'532ce833-948a-42a8-aa32-6a8563a2b480': {'input': {'question': 'What optimizer is used in QLoRA?'},\n",
              "   'feedback': [EvaluationResult(key='helpfulness', score=0, value='N', comment='The criterion for this task is \"helpfulness\". The submission should be helpful, insightful, and appropriate. \\n\\nLooking at the submission, the respondent states that they do not know the answer to the question. This is not helpful to the person asking the question, as it does not provide any new information or insight. \\n\\nThe response is appropriate in the sense that it is a valid response to a question when the answer is unknown. However, the criterion does not specify that the response needs to be appropriate, but rather that it needs to be helpful and insightful. \\n\\nTherefore, based on the criterion of helpfulness, the submission does not meet the criteria.\\n\\nN', correction=None, evaluator_info={'__run': RunInfo(run_id=UUID('4973e1ce-8722-4936-9bca-1fe93b5e3188'))}, source_run_id=None, target_run_id=None),\n",
              "    EvaluationResult(key='harmfulness', score=0, value='N', comment='The criterion asks if the submission is harmful, offensive, or inappropriate. \\n\\nLooking at the submission, it is clear that the respondent does not know the answer to the question. They have stated this in a straightforward and respectful manner. \\n\\nThere is no harmful, offensive, or inappropriate content in the submission. The respondent has simply admitted their lack of knowledge on the topic, which is a neutral and acceptable response.\\n\\nTherefore, the submission is not harmful, offensive, or inappropriate.\\n\\nN', correction=None, evaluator_info={'__run': RunInfo(run_id=UUID('70635469-20db-47f7-9bd2-458638871a58'))}, source_run_id=None, target_run_id=None),\n",
              "    EvaluationResult(key='AI', score=1, value='Y', comment='The criterion is to assess whether the response feels like it was generated by an AI. The submitted answer does not provide the specific information asked for in the input, but it does provide a reasonable response that an AI might generate when it does not have the necessary information to answer a question. The response is coherent and grammatically correct, which are characteristics of AI-generated responses. Therefore, the submission does meet the criterion.\\n\\nY', correction=None, evaluator_info={'__run': RunInfo(run_id=UUID('af5ad73f-3ef7-4a8e-9ef3-d915d4c61b05'))}, source_run_id=None, target_run_id=None),\n",
              "    EvaluationResult(key='scored_dopeness', score=0.6, value=None, comment='The response is accurate and honest, which is good. However, it lacks any additional effort to provide more information or context about what QLoRA is or what an optimizer is, which could have made the response more helpful and engaging. The response is also quite dry and lacks any personality or flair that could make it more interesting or enjoyable to read. Therefore, I would give it a score of 60.', correction=None, evaluator_info={'__run': RunInfo(run_id=UUID('e6de1f08-0ad1-4454-9300-3c58f2595905'))}, source_run_id=None, target_run_id=None)],\n",
              "   'execution_time': 3.074985,\n",
              "   'run_id': 'debf4cdd-8b6e-4b05-bbbe-359d626f7d86',\n",
              "   'output': \"\\nAnswer: I don't know. The context provided does not mention the optimizer used in QLoRA.\"},\n",
              "  '6043a8d5-b47f-426c-8146-f868bcffdfb5': {'input': {'question': 'What data type was created in the QLoRA paper?'},\n",
              "   'feedback': [EvaluationResult(key='helpfulness', score=1, value='Y', comment='The criterion for this task is \"helpfulness\". \\n\\nTo assess this, we need to consider whether the submission provides a useful and relevant response to the input question. \\n\\nThe input question asks about the data type created in the QLoRA paper. \\n\\nThe submission provides a clear and direct answer to this question, stating that the QLoRA paper created a new data type called BrainFloat. \\n\\nThis information is directly relevant to the question and provides the necessary information to answer it. \\n\\nTherefore, the submission is helpful and meets the criterion. \\n\\nY', correction=None, evaluator_info={'__run': RunInfo(run_id=UUID('a6556e0f-dd6a-486e-b73f-c5115d88b55c'))}, source_run_id=None, target_run_id=None),\n",
              "    EvaluationResult(key='harmfulness', score=0, value='N', comment='The criterion for this assessment is whether the submission is harmful, offensive, or inappropriate.\\n\\nLooking at the submission, it is a straightforward answer to the question asked. It provides information about a data type created in the QLoRA paper, which is relevant to the input.\\n\\nThere is no language or content in the submission that could be considered harmful, offensive, or inappropriate. The submission is purely factual and does not contain any harmful or inappropriate content.\\n\\nTherefore, the submission is not harmful, offensive, or inappropriate.\\n\\nN', correction=None, evaluator_info={'__run': RunInfo(run_id=UUID('5812b33d-98a5-445d-bff0-50221b534f46'))}, source_run_id=None, target_run_id=None),\n",
              "    EvaluationResult(key='AI', score=0, value='N', comment='The criterion for this task is to assess whether the response feels like it was generated by an AI. \\n\\nLooking at the submission, the response is clear, concise, and directly answers the question. It does not exhibit any of the common signs of AI-generated text such as nonsensical phrases, irrelevant information, or awkward sentence structure. \\n\\nTherefore, the response does not feel AI generated.\\n\\nN', correction=None, evaluator_info={'__run': RunInfo(run_id=UUID('013c3c61-468e-4788-bd8c-ac595deb9f49'))}, source_run_id=None, target_run_id=None),\n",
              "    EvaluationResult(key='scored_dopeness', score=0.9, value=None, comment=\"The response is accurate, clear, and directly answers the question. It provides the exact information asked for without any unnecessary details or deviations. The language used is also professional and appropriate for the context. However, it could be improved by providing a bit more information about what the BrainFloat data type is or why it's significant, to give the answer more depth and context.\", correction=None, evaluator_info={'__run': RunInfo(run_id=UUID('d0ac42f0-98b9-413d-9eef-28994fff072a'))}, source_run_id=None, target_run_id=None)],\n",
              "   'execution_time': 2.917245,\n",
              "   'run_id': '606bcfd5-8407-4e97-8db6-e696dc8c2d41',\n",
              "   'output': '\\nAnswer:\\nIn the QLoRA paper, a new data type called BrainFloat was created.'},\n",
              "  '82a1e511-25b2-46b3-abdb-f42fb329bba3': {'input': {'question': 'What is a Retrieval Augmented Generation system?'},\n",
              "   'feedback': [EvaluationResult(key='helpfulness', score=0, value='N', comment='The criterion is \"helpfulness: Is the submission helpful, insightful, and appropriate?\"\\n\\nThe submission is \"Please provide your answer based on the provided context.\"\\n\\nThe submission does not provide any information about what a Retrieval Augmented Generation system is. It is not helpful or insightful as it does not answer the question. It is not appropriate as it does not provide the information asked for in the input.\\n\\nTherefore, the submission does not meet the criteria.\\n\\nN', correction=None, evaluator_info={'__run': RunInfo(run_id=UUID('33aa0859-aeea-4cd3-b998-e3c3fb3ca3ba'))}, source_run_id=None, target_run_id=None),\n",
              "    EvaluationResult(key='harmfulness', score=0, value='N', comment='The criterion for this assessment is whether the submission is harmful, offensive, or inappropriate.\\n\\nLooking at the submission, it does not contain any harmful, offensive, or inappropriate content. It is simply asking for an answer based on the provided context, which is not harmful, offensive, or inappropriate in any way.\\n\\nTherefore, the submission meets the criteria.\\n\\nN', correction=None, evaluator_info={'__run': RunInfo(run_id=UUID('a0632131-e398-412c-821e-9cbfa9bbacda'))}, source_run_id=None, target_run_id=None),\n",
              "    EvaluationResult(key='AI', score=1, value='Y', comment='The criterion asks if the response feels AI generated. The submission does not answer the question asked, instead it asks for an answer based on the provided context. This kind of response is typical of AI systems that do not understand the context or the question asked. Therefore, the response does feel AI generated.\\n\\nY', correction=None, evaluator_info={'__run': RunInfo(run_id=UUID('25001d4b-3566-4bb1-8846-d712e477ac9c'))}, source_run_id=None, target_run_id=None),\n",
              "    EvaluationResult(key='scored_dopeness', score=0.0, value=None, comment=\"The response is not dope at all. It doesn't answer the question asked, instead it asks for more context which is not needed in this case. The question is clear and straightforward, it's asking for an explanation of what a Retrieval Augmented Generation system is. The response should have provided an explanation or definition.\", correction=None, evaluator_info={'__run': RunInfo(run_id=UUID('10b3a8da-7fb1-4a8d-879b-8d96e1c34a89'))}, source_run_id=None, target_run_id=None)],\n",
              "   'execution_time': 1.846016,\n",
              "   'run_id': 'aa66e169-97e9-413f-be1e-f4b632a311f1',\n",
              "   'output': '\\nPlease provide your answer based on the provided context.'},\n",
              "  'ca970cd4-1cbd-43c7-949a-6203df3f7738': {'input': {'question': 'Who authored the QLoRA paper?'},\n",
              "   'feedback': [EvaluationResult(key='helpfulness', score=0, value='N', comment='The criterion for this task is \"helpfulness\". The submission should be helpful, insightful, and appropriate. \\n\\nLooking at the submission, the respondent has stated that they do not know who authored the QLoRA paper. They have also mentioned that the authors of the paper are not explicitly mentioned in the provided context. \\n\\nThis response is appropriate as it is honest and straightforward. However, it may not be considered helpful or insightful as it does not provide any additional information or insight about the authorship of the QLoRA paper. \\n\\nTherefore, based on the given criterion, the submission does not meet the criteria.\\n\\nN', correction=None, evaluator_info={'__run': RunInfo(run_id=UUID('962d3ea1-2ca7-49b4-9044-e8830be09f15'))}, source_run_id=None, target_run_id=None),\n",
              "    EvaluationResult(key='harmfulness', score=0, value='N', comment='The criterion is asking whether the submission is harmful, offensive, or inappropriate. \\n\\nLooking at the submission, it is a simple statement of not knowing the answer to the question. The respondent also explains that the authors of the paper are not explicitly mentioned in the provided context. \\n\\nThere is nothing harmful, offensive, or inappropriate in the submission. The respondent is simply stating their lack of knowledge and providing a reason for it. \\n\\nTherefore, the submission is not harmful, offensive, or inappropriate.\\n\\nN', correction=None, evaluator_info={'__run': RunInfo(run_id=UUID('edc14fdc-d38a-4f06-807c-2142301042d1'))}, source_run_id=None, target_run_id=None),\n",
              "    EvaluationResult(key='AI', score=1, value='Y', comment='The criterion is to assess whether the response feels like it was generated by an AI. The submission does not provide a direct answer to the question but instead states that the authors are not mentioned in the provided context. This response shows an understanding of the context and a logical reasoning process, which are characteristics of AI-generated responses. Therefore, the submission does meet the criterion.\\n\\nY', correction=None, evaluator_info={'__run': RunInfo(run_id=UUID('15e4b03a-5a39-4a9f-a60f-fd39134ba7ea'))}, source_run_id=None, target_run_id=None),\n",
              "    EvaluationResult(key='scored_dopeness', score=0.6, value=None, comment='The response is accurate and honest, as it admits to not knowing the answer due to lack of context. However, it lacks the extra effort to provide a more helpful response, such as suggesting ways to find the information or offering to look it up. It also lacks any sort of engaging or entertaining element that might make it more \"dope\". Therefore, while it\\'s a solid response, it\\'s not particularly outstanding or memorable.', correction=None, evaluator_info={'__run': RunInfo(run_id=UUID('61d60fe4-671e-4eaa-be5f-3ced104925df'))}, source_run_id=None, target_run_id=None)],\n",
              "   'execution_time': 2.973311,\n",
              "   'run_id': '10e90fbc-d971-4074-96d4-31e7f5eabbc7',\n",
              "   'output': \"\\nAnswer: I don't know. The authors of the paper are not explicitly mentioned in the provided context.\"},\n",
              "  'b4cf434f-6582-48ab-ab45-c3873813a715': {'input': {'question': 'What is the most popular deep learning framework?'},\n",
              "   'feedback': [EvaluationResult(key='helpfulness', score=1, value='Y', comment='The criterion for this task is \"helpfulness\". The submission should be helpful, insightful, and appropriate.\\n\\nLooking at the submission, the respondent does not directly answer the question about the most popular deep learning framework. However, they do provide a list of several popular deep learning frameworks and mention their wide usage in academia and industry. This information could be helpful to someone looking to understand the landscape of deep learning frameworks.\\n\\nThe submission is insightful as it provides information about the various applications of these frameworks, including image classification, natural language processing, and reinforcement learning. This gives the reader a sense of the versatility and functionality of these frameworks.\\n\\nThe submission is appropriate as it is related to the topic of deep learning frameworks. It does not contain any offensive or irrelevant content.\\n\\nBased on this analysis, the submission meets the criterion of being helpful, insightful, and appropriate, even though it does not directly answer the question.\\n\\nY', correction=None, evaluator_info={'__run': RunInfo(run_id=UUID('9300a9c2-b0f7-4d4b-b157-56d10c4cae27'))}, source_run_id=None, target_run_id=None),\n",
              "    EvaluationResult(key='harmfulness', score=0, value='N', comment='The criterion for this task is to assess whether the submission is harmful, offensive, or inappropriate.\\n\\nLooking at the submission, it is a response to a question about the most popular deep learning framework. The respondent states that they do not know the most popular one, but they provide information about several popular deep learning frameworks. \\n\\nThe response is factual and informative. It does not contain any harmful, offensive, or inappropriate content. \\n\\nTherefore, the submission is not harmful, offensive, or inappropriate.\\n\\nN', correction=None, evaluator_info={'__run': RunInfo(run_id=UUID('f7998f8d-c2ca-4a94-b2a6-673e35a625df'))}, source_run_id=None, target_run_id=None),\n",
              "    EvaluationResult(key='AI', score=1, value='Y', comment='The criterion asks if the response feels AI generated. The response provided does not directly answer the question asked, which is a characteristic often seen in AI-generated responses. The response also provides a general overview of popular deep learning frameworks without specifying which one is the most popular, which could be seen as an attempt to cover all bases, another characteristic often seen in AI-generated responses. However, the response is also coherent and well-structured, which could be seen as more human-like. \\n\\nBased on these observations, it can be difficult to definitively say whether the response feels AI generated or not. However, due to the lack of a direct answer to the question and the general nature of the response, it leans more towards feeling AI generated.\\n\\nY', correction=None, evaluator_info={'__run': RunInfo(run_id=UUID('31b793aa-a825-4f7a-8c90-6c580f234b9b'))}, source_run_id=None, target_run_id=None),\n",
              "    EvaluationResult(key='scored_dopeness', score=0.7, value=None, comment='I would rate this response as 70 out of 100.', correction=None, evaluator_info={'__run': RunInfo(run_id=UUID('7eec27b2-32d7-434e-b10b-742decafe9be'))}, source_run_id=None, target_run_id=None)],\n",
              "   'execution_time': 10.166302,\n",
              "   'run_id': '39b5e910-a3b6-4be7-8a83-fe9147bd3379',\n",
              "   'output': \"\\nAnswer:\\nI don't know the most popular deep learning framework. However, I can tell you that there are several popular deep learning frameworks, including TensorFlow, PyTorch, Keras, and Caffe. These frameworks are widely used in academia and industry for various applications, including image classification, natural language processing, and reinforcement learning. However, the popularity of each framework may vary depending on the specific use case and the preferences of the user.\"},\n",
              "  'a8ad761a-2e0c-4d5a-b147-4c9535dfbbc9': {'input': {'question': 'What significant improvements does the LoRA system make?'},\n",
              "   'feedback': [EvaluationResult(key='helpfulness', score=1, value='Y', comment=\"The criterion for this task is the helpfulness of the submission. \\n\\nThe submission provides a detailed explanation of the improvements made by the LoRA system. It lists four significant improvements, including reduced memory usage, improved performance, faster training times, and better generalization. Each point is explained clearly and concisely, making it easy for the reader to understand. \\n\\nThe submission is also insightful as it not only lists the improvements but also explains how these improvements affect the model's performance. This gives the reader a deeper understanding of the benefits of the LoRA system.\\n\\nThe submission is appropriate as it directly answers the question asked in the input. It stays on topic and provides relevant information.\\n\\nBased on this analysis, the submission meets the criterion of being helpful, insightful, and appropriate.\\n\\nY\", correction=None, evaluator_info={'__run': RunInfo(run_id=UUID('09888e0e-2583-43be-abeb-8f4f4792c396'))}, source_run_id=None, target_run_id=None),\n",
              "    EvaluationResult(key='harmfulness', score=0, value='N', comment='The criterion for this assessment is whether the submission is harmful, offensive, or inappropriate.\\n\\nLooking at the submission, it is a technical explanation of the improvements made by the LoRA system. It does not contain any harmful, offensive, or inappropriate content. It is purely informational and relevant to the input question.\\n\\nTherefore, the submission is not harmful, offensive, or inappropriate.\\n\\nN', correction=None, evaluator_info={'__run': RunInfo(run_id=UUID('39eee08e-4d42-483a-ac4b-d0133ba258dd'))}, source_run_id=None, target_run_id=None),\n",
              "    EvaluationResult(key='AI', score=0, value='N', comment='The criterion asks if the response feels like it was generated by an AI. \\n\\nLooking at the submission, the answer is well-structured and detailed. It provides a list of improvements made by the LoRA system, each point is explained clearly and logically. The language used is natural and the flow of the text is smooth. \\n\\nThere are no signs of typical AI-generated text issues such as repetition, lack of coherence, or context misunderstanding. The answer seems to be written by a human with a good understanding of the topic.\\n\\nTherefore, the submission does not feel AI-generated.\\n\\nN', correction=None, evaluator_info={'__run': RunInfo(run_id=UUID('e5e63a49-a03f-4e0a-a841-d538a82f1a21'))}, source_run_id=None, target_run_id=None),\n",
              "    EvaluationResult(key='scored_dopeness', score=0.9, value=None, comment='This response is very informative and detailed. It provides a clear and concise explanation of the improvements made by the LoRA system. The use of bullet points makes the information easy to digest and understand. The language used is professional and appropriate for the topic. However, it lacks a bit of creativity and excitement that could make it more engaging.', correction=None, evaluator_info={'__run': RunInfo(run_id=UUID('a0c83b4a-6bcc-4ef5-8675-e61d7097743f'))}, source_run_id=None, target_run_id=None)],\n",
              "   'execution_time': 14.176012,\n",
              "   'run_id': 'bd4b2f05-050a-48d0-9a62-39fc4a415f9f',\n",
              "   'output': '\\nAnswer:\\nThe LoRA system makes several significant improvements, including:\\n\\n1. Reduced memory usage: LoRA reduces the memory usage of the model by a factor of 2-4, depending on the layer and the model size.\\n2. Improved performance: LoRA improves the performance of the model on various NLP tasks, such as language translation and language modeling.\\n3. Faster training times: LoRA reduces the training time of the model by a factor of 2-4, depending on the layer and the model size.\\n4. Better generalization: LoRA helps the model to generalize better to unseen data, leading to improved performance on unseen data.\\n\\nOverall, the LoRA system makes significant improvements in reducing the memory usage, improving the performance, reducing the training time, and improving the generalization of the model.'}},\n",
              " 'aggregate_metrics': None}"
            ]
          },
          "execution_count": 29,
          "metadata": {},
          "output_type": "execute_result"
        }
      ],
      "source": [
        "client.run_on_dataset(\n",
        "    dataset_name=dataset_name,\n",
        "    llm_or_chain_factory=retrieval_augmented_qa_chain,\n",
        "    evaluation=eval_config,\n",
        "    verbose=True,\n",
        "    project_name=\"HF RAG Pipeline - Evaluation - v3\",\n",
        "    project_metadata={\"version\": \"1.0.0\"},\n",
        ")"
      ]
    },
    {
      "cell_type": "code",
      "execution_count": null,
      "metadata": {},
      "outputs": [],
      "source": []
    }
  ],
  "metadata": {
    "colab": {
      "provenance": []
    },
    "kernelspec": {
      "display_name": "Python 3",
      "name": "python3"
    },
    "language_info": {
      "codemirror_mode": {
        "name": "ipython",
        "version": 3
      },
      "file_extension": ".py",
      "mimetype": "text/x-python",
      "name": "python",
      "nbconvert_exporter": "python",
      "pygments_lexer": "ipython3",
      "version": "3.11.8"
    }
  },
  "nbformat": 4,
  "nbformat_minor": 0
}
